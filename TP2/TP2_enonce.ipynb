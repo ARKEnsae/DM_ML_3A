{
 "cells": [
  {
   "cell_type": "markdown",
   "metadata": {},
   "source": [
    "<h1><center> TP2: Pandas, data analysis library </center></h1>\n",
    "\n",
    "The deadline for report submission is Tuesday, December 8th 2020.\n",
    "\n",
    "Note: the goal of this TP is to become familiar with 'pandas' class in Python. This library is often used for data analysis and is convenient for manipulation tool.\n",
    "We consider a case study based on a dataset that contains information about bookings of two hotels. Hotel 1 is a resort hotel and Hotel 2 is a city hotel in Portugal. The dataset was released by https://www.sciencedirect.com/science/article/pii/S2352340918315191.\n",
    "\n",
    "We first list the basic function in pandas. PART 1 aims at using pandas as a visualization tools to a better understanding of data. PART 2 shows how easy it is to combine \"pandas\" dataframes and \"sklearn\" models to build additional features and predict. \n",
    "\n",
    "As a homework, we propose you a very concret problem which is open and for which we are waiting for your creativity (as usual)!"
   ]
  },
  {
   "cell_type": "code",
   "execution_count": null,
   "metadata": {
    "collapsed": true
   },
   "outputs": [],
   "source": [
    "import numpy as np\n",
    "import seaborn as sns\n",
    "import pandas as pd\n",
    "import matplotlib.pyplot as plt\n",
    "% matplotlib notebook"
   ]
  },
  {
   "cell_type": "markdown",
   "metadata": {},
   "source": [
    "# Short intro into pandas"
   ]
  },
  {
   "cell_type": "code",
   "execution_count": null,
   "metadata": {
    "collapsed": true
   },
   "outputs": [],
   "source": [
    "data = pd.read_csv(\"bookings.csv\") "
   ]
  },
  {
   "cell_type": "code",
   "execution_count": null,
   "metadata": {},
   "outputs": [],
   "source": [
    "data.head(5) # print first 5 entries of the dataset"
   ]
  },
  {
   "cell_type": "code",
   "execution_count": null,
   "metadata": {},
   "outputs": [],
   "source": [
    "data.columns # print column names"
   ]
  },
  {
   "cell_type": "markdown",
   "metadata": {},
   "source": [
    "This dataset contains information about bookings of two hotels. Hotel 1 is a resort hotel and Hotel 2 is a city hotel in Portugal. The dataset was released by https://www.sciencedirect.com/science/article/pii/S2352340918315191.\n",
    "\n",
    "There are 32 columns in this dataset:\n",
    "\n",
    "1. **hotel** -- one of the two hotels\n",
    "2. **is_canceled** -- Value indicating if the booking was canceled (1) or not (0)\n",
    "3. **lead_time** -- Number of days that elapsed between the entering date of the booking into the PMS and the arrival date\n",
    "4. ....\n",
    "\n",
    "For the full description of each column please see: https://www.kaggle.com/jessemostipak/hotel-booking-demand"
   ]
  },
  {
   "cell_type": "code",
   "execution_count": null,
   "metadata": {},
   "outputs": [],
   "source": [
    "data['country'] # we can also print each column of the dataset"
   ]
  },
  {
   "cell_type": "code",
   "execution_count": null,
   "metadata": {},
   "outputs": [],
   "source": [
    "data['country'].unique() # list all unique values in the column"
   ]
  },
  {
   "cell_type": "code",
   "execution_count": null,
   "metadata": {},
   "outputs": [],
   "source": [
    "data.count()"
   ]
  },
  {
   "cell_type": "markdown",
   "metadata": {},
   "source": [
    "This dataset contains 119390 different reservations. Some of the reservations have missing values.\n"
   ]
  },
  {
   "cell_type": "code",
   "execution_count": null,
   "metadata": {},
   "outputs": [],
   "source": [
    "data.values # A data frame can be converted into a numpy array by calling the values attribute:"
   ]
  },
  {
   "cell_type": "markdown",
   "metadata": {},
   "source": [
    "However this array cannot be directly fed to a scikit-learn model.\n",
    "\n",
    "1. the values are heterogeneous (strings for categories, integers, and floating point numbers)\n",
    "2. some attribute values are missing"
   ]
  },
  {
   "cell_type": "markdown",
   "metadata": {},
   "source": [
    "# Predicting cancellation: Part I -- visualization"
   ]
  },
  {
   "cell_type": "markdown",
   "metadata": {},
   "source": [
    "**Our goals** The goal of this part is to provide few examples of visualization combining ```pandas```, ```matplotlib```, ```seaborn```. "
   ]
  },
  {
   "cell_type": "markdown",
   "metadata": {},
   "source": [
    "We will look at a very natural and practical task -- predicting cancellation of a given reservation. Of course, the first instinct of the modern 'ML practitioner' is to throw all the data to some neural net and perform bunch of fine-tuning. There are really a lot of problems with such an approach. As a general rule of thumbs: explore your data before building ML pipelines! It is alway more interesting to investigate the data and find human-interpretable patterns."
   ]
  },
  {
   "cell_type": "markdown",
   "metadata": {},
   "source": [
    "Pandas allows to manipulate the dataset in a very convenient manner. Those familiar with SQL will certainly appreciate it! \n",
    "\n",
    "As the first visualization task let us understand which monthes have the most amount of cancellations.\n",
    "We start by creating a new dataset that contains the information that we would like to plot."
   ]
  },
  {
   "cell_type": "code",
   "execution_count": null,
   "metadata": {
    "collapsed": true
   },
   "outputs": [],
   "source": [
    "\n",
    "'''\n",
    " We create two datasets for each hotel .groupby(\"arrival_date_month\") will group observations by the month\n",
    " and .count() function will simply count the amount of reservations for each month\n",
    "'''\n",
    "n_reserv_H1 = data.loc[(data[\"hotel\"] == \"Resort Hotel\")].groupby(\"arrival_date_month\")[\"hotel\"].count()\n",
    "n_cancel_H1 = data.loc[(data[\"hotel\"] == \"Resort Hotel\")].groupby(\"arrival_date_month\")[\"is_canceled\"].sum()\n",
    "\n",
    "# same thing we do for the second hotel\n",
    "n_reserv_H2 = data.loc[(data[\"hotel\"] == \"City Hotel\")].groupby(\"arrival_date_month\")[\"hotel\"].count()\n",
    "n_cancel_H2 = data.loc[(data[\"hotel\"] == \"City Hotel\")].groupby(\"arrival_date_month\")[\"is_canceled\"].sum()"
   ]
  },
  {
   "cell_type": "code",
   "execution_count": null,
   "metadata": {},
   "outputs": [],
   "source": [
    "n_reserv_H1.head() # again we can have a look at the top 5 entries"
   ]
  },
  {
   "cell_type": "code",
   "execution_count": null,
   "metadata": {},
   "outputs": [],
   "source": [
    "n_reserv_H1['April'] # number of reservation for Resort Hotel for April"
   ]
  },
  {
   "cell_type": "code",
   "execution_count": null,
   "metadata": {},
   "outputs": [],
   "source": [
    "n_cancel_H1['April'] # number of cancelled reservations for Resort Hotel"
   ]
  },
  {
   "cell_type": "code",
   "execution_count": null,
   "metadata": {
    "collapsed": true
   },
   "outputs": [],
   "source": [
    "# finally, we gather everything together\n",
    "\n",
    "\n",
    "data_visualH1 = pd.DataFrame({\"hotel\": \"Resort Hotel\",\n",
    "                                \"month\": list(n_reserv_H1.index),\n",
    "                                \"n_booking\": list(n_reserv_H1.values),\n",
    "                                \"n_cancel\": list(n_cancel_H1.values)})\n",
    "data_visualH2 = pd.DataFrame({\"hotel\": \"City Hotel\",\n",
    "                                \"month\": list(n_reserv_H2.index),\n",
    "                                \"n_booking\": list(n_reserv_H2.values),\n",
    "                                \"n_cancel\": list(n_cancel_H2.values)})\n",
    "data_visual = pd.concat([data_visualH1, data_visualH2], ignore_index=True)\n",
    "\n",
    "# notice how easy it is to add a new column. We simply write the following\n",
    "data_visual[\"percent_cancel\"] = data_visual[\"n_cancel\"] / data_visual[\"n_booking\"] * 100 # percent of cancelations"
   ]
  },
  {
   "cell_type": "code",
   "execution_count": null,
   "metadata": {},
   "outputs": [],
   "source": [
    "data_visual.head() # our final dataset"
   ]
  },
  {
   "cell_type": "code",
   "execution_count": null,
   "metadata": {},
   "outputs": [],
   "source": [
    "# plotting is simple once we have good dataset.\n",
    "plt.figure(figsize=(6, 6))\n",
    "sns.barplot(x = \"month\", y = \"percent_cancel\" , hue=\"hotel\",\n",
    "            hue_order = [\"Resort Hotel\", \"City Hotel\"], data=data_visual)\n",
    "plt.title(\"Cancelations per month\")\n",
    "plt.xticks(rotation=45)\n",
    "plt.ylabel(\"Cancelations [%]\")\n",
    "plt.legend()\n",
    "plt.show()"
   ]
  },
  {
   "cell_type": "markdown",
   "metadata": {},
   "source": [
    "Previous plot is nice, but the ordering of the month is very annoying!\n",
    "\n",
    "**Question 1.** Propose a solution that will re-order the barplot above using standard month ordering. Hint: use ```pd.Categorical()``` function of pandas."
   ]
  },
  {
   "cell_type": "markdown",
   "metadata": {},
   "source": [
    "**Question 2.** Provide interpretation of the above plot."
   ]
  },
  {
   "cell_type": "markdown",
   "metadata": {},
   "source": [
    "**Question 3.** What is the most and the second most common country of origin for reservations of each hotel?"
   ]
  },
  {
   "cell_type": "markdown",
   "metadata": {},
   "source": [
    "**Question 4.** Plot the number of cancelations for repeated and not repeated guests for both hotels."
   ]
  },
  {
   "cell_type": "code",
   "execution_count": null,
   "metadata": {},
   "outputs": [],
   "source": [
    "plt.figure(figsize=(6, 6))\n",
    "sns.countplot(x=\"is_canceled\", hue='is_repeated_guest', data=data)\n",
    "plt.title(\"Canceled vs repeated guest\", fontsize=16)\n",
    "plt.plot()"
   ]
  },
  {
   "cell_type": "markdown",
   "metadata": {},
   "source": [
    "Most guests in these two hotels are not repeated, while the repreated guests are less likely to cancel."
   ]
  },
  {
   "cell_type": "code",
   "execution_count": null,
   "metadata": {},
   "outputs": [],
   "source": [
    "data_req = data[(data['hotel'] == 'City Hotel')].groupby(['total_of_special_requests', 'is_canceled']).size().unstack(level=1)\n",
    "data_req.plot(kind='bar', stacked=True, figsize=(6,6))\n",
    "plt.title('Special Request vs Cancellation in H2')\n",
    "plt.xlabel('Number of Special Request', fontsize=10)\n",
    "plt.xticks(rotation=300)\n",
    "plt.ylabel('Count', fontsize=10)"
   ]
  },
  {
   "cell_type": "markdown",
   "metadata": {},
   "source": [
    "Most of the reservations in the city hotel have no special requests and the cancelation in this case is almost 50/50. However, when special requests are made, the cancelation rate is significantly lower.\n",
    "\n",
    "**Question 5.** Make the same plot for Resort Hotel. Make your conclusions."
   ]
  },
  {
   "cell_type": "markdown",
   "metadata": {},
   "source": [
    "# Predicting cancellations: Part II -- ML"
   ]
  },
  {
   "cell_type": "markdown",
   "metadata": {},
   "source": [
    "**Our goals** The main message here is -- do not re-invent the wheel. The following few lines of code highlight the simplicity with which we can combine ```pandas``` dataframes and ```sklearn``` models. By learning few simple tools (i.e. ```pipeline```, ```gridsearchcv```) our code becomes readable, compact, and can be used to build extra features on top of it."
   ]
  },
  {
   "cell_type": "code",
   "execution_count": null,
   "metadata": {
    "collapsed": true
   },
   "outputs": [],
   "source": [
    "from sklearn.pipeline import Pipeline\n",
    "from sklearn.compose import ColumnTransformer\n",
    "from sklearn.preprocessing import OneHotEncoder\n",
    "from sklearn.impute import SimpleImputer\n",
    "from sklearn.linear_model import LogisticRegression\n",
    "from sklearn.model_selection import GridSearchCV"
   ]
  },
  {
   "cell_type": "code",
   "execution_count": null,
   "metadata": {
    "collapsed": true
   },
   "outputs": [],
   "source": [
    "numeric_features = [\"lead_time\", \"arrival_date_week_number\", \"total_of_special_requests\"]\n",
    "categorical_features = [\"hotel\", \"market_segment\",\"deposit_type\",\"customer_type\"]\n",
    "features = numeric_features + categorical_features\n",
    "X = data.drop([\"is_canceled\"], axis=1)[features]\n",
    "y = data[\"is_canceled\"]"
   ]
  },
  {
   "cell_type": "markdown",
   "metadata": {},
   "source": [
    "Before using any ML algorithm from sklearn we need to handle missing values. There is no unique answer on how to deal with missing values in your dataset. We will use possibly the simplest approach. First of all if the feature is numerical and is misisng, we are going to replace it with zero. Secondly, if the feature is categorical and is missing, then we are going to define a new category and call it ```Not defined```."
   ]
  },
  {
   "cell_type": "code",
   "execution_count": null,
   "metadata": {
    "collapsed": true
   },
   "outputs": [],
   "source": [
    "numeric_transformer = SimpleImputer(strategy=\"constant\", fill_value=0) # to deal with missing numeric data\n",
    "categorical_transformer = Pipeline(steps=[\n",
    "                                    (\"imputer\", SimpleImputer(strategy=\"constant\", fill_value=\"Not defined\")),\n",
    "                                    (\"onehot\", OneHotEncoder(handle_unknown='ignore'))]) # to deal with missing categorical data \n",
    "preproc = ColumnTransformer(transformers=[(\"num\", numeric_transformer, numeric_features),\n",
    "                                          (\"cat\", categorical_transformer, categorical_features)])"
   ]
  },
  {
   "cell_type": "markdown",
   "metadata": {},
   "source": [
    "**Question:** What is ```OneHotEncoder()```? Why do we use it in our case?"
   ]
  },
  {
   "cell_type": "markdown",
   "metadata": {},
   "source": [
    "Now imagine a situation when you want to try a lot of different models and for each model you want to make some cross-validation to select the best hyperparameters. On top of that you want to preprocess the data so that you feed something meaningfull into each method.\n",
    "\n",
    "The next chunk of code shows how to do it."
   ]
  },
  {
   "cell_type": "code",
   "execution_count": null,
   "metadata": {},
   "outputs": [],
   "source": [
    "models = [(\"logreg\", LogisticRegression(max_iter=500))]\n",
    "grids = {\"logreg\" : {'logreg__C': np.logspace(-2, 2, 5, base=2)}}\n",
    "for name, model in models:\n",
    "    pipe = Pipeline(steps=[('preprocessor', preproc), (name, model)])\n",
    "    clf = GridSearchCV(pipe, grids[name], cv=3)\n",
    "    clf.fit(X, y)\n",
    "    print('Results for {}'.format(name))\n",
    "    print(clf.cv_results_)"
   ]
  },
  {
   "cell_type": "markdown",
   "metadata": {},
   "source": [
    "**Question:** In the previous example we again encounter the convergence problem. Of course we can set higher number of iterations, but it is time consuming. As you have seen, proper normalization can resolve the issue. Insert a normalization step in the pipeline. Note that we do not want to normalize the categorical data, it simply does not make sense. Be careful to normalize only the numerical data. Did it resolve the warning?\n",
    "\n",
    "**Question:** As we can see, previous code uses only logistic regression. Modify the above code inserting your favorite ML method.\n",
    "\n",
    "**Remark:** Note that in this part we picked only a small subset of features. We could have used other features as well.\n",
    "\n"
   ]
  },
  {
   "cell_type": "markdown",
   "metadata": {},
   "source": [
    "# The homework"
   ]
  },
  {
   "cell_type": "markdown",
   "metadata": {},
   "source": [
    "**The story!**\n",
    "You are a data scientist working for the hotel, one day the manager comes and tells you.\n",
    "\n",
    "In our hotels we have an option to offer a parking spot, which costs money. Apparently, not every customer is aware that we have such an option. I really want to offer parking spots for everyone who needs it, because the hotel can earn more money like that. Look, I can send an SMS notification to our customers. Of course SMS are not free, and, moreover, people get very much angry if they receive stupid notifications for no reason. For each new reservation, I would like to decide if I should or shouldn't send the notification to the customer.\n",
    "\n",
    "**Problem** Explore your data to help the manager and construct a prediction algorithm, using the above template as an inspiration. \n",
    "\n",
    "**Warning!** Be aware, that some columns are not actually avaiable at the moment of reservation. For instance, the target column ```is_canceled``` from the previous part clearly cannot be observed at the moment when we need to decide to send the SMS."
   ]
  }
 ],
 "metadata": {
  "kernelspec": {
   "display_name": "Python 3",
   "language": "python",
   "name": "python3"
  },
  "language_info": {
   "codemirror_mode": {
    "name": "ipython",
    "version": 3
   },
   "file_extension": ".py",
   "mimetype": "text/x-python",
   "name": "python",
   "nbconvert_exporter": "python",
   "pygments_lexer": "ipython3",
   "version": "3.6.10"
  }
 },
 "nbformat": 4,
 "nbformat_minor": 2
}
