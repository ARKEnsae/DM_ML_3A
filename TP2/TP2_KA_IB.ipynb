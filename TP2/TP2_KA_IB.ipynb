{
 "cells": [
  {
   "cell_type": "markdown",
   "metadata": {},
   "source": [
    "<h1><center> TP2: Pandas, data analysis library </center></h1>\n",
    "\n",
    "The deadline for report submission is Tuesday, December 8th 2020.\n",
    "\n",
    "Note: the goal of this TP is to become familiar with 'pandas' class in Python. This library is often used for data analysis and is convenient for manipulation tool.\n",
    "We consider a case study based on a dataset that contains information about bookings of two hotels. Hotel 1 is a resort hotel and Hotel 2 is a city hotel in Portugal. The dataset was released by https://www.sciencedirect.com/science/article/pii/S2352340918315191.\n",
    "\n",
    "We first list the basic function in pandas. PART 1 aims at using pandas as a visualization tools to a better understanding of data. PART 2 shows how easy it is to combine \"pandas\" dataframes and \"sklearn\" models to build additional features and predict. \n",
    "\n",
    "As a homework, we propose you a very concret problem which is open and for which we are waiting for your creativity (as usual)!"
   ]
  },
  {
   "cell_type": "code",
   "execution_count": 2,
   "metadata": {},
   "outputs": [],
   "source": [
    "import numpy as np\n",
    "import seaborn as sns\n",
    "import pandas as pd\n",
    "import matplotlib.pyplot as plt\n",
    "%matplotlib notebook"
   ]
  },
  {
   "cell_type": "markdown",
   "metadata": {},
   "source": [
    "# Short intro into pandas"
   ]
  },
  {
   "cell_type": "code",
   "execution_count": 3,
   "metadata": {},
   "outputs": [],
   "source": [
    "data = pd.read_csv(\"data/bookings.csv\") "
   ]
  },
  {
   "cell_type": "code",
   "execution_count": 3,
   "metadata": {},
   "outputs": [
    {
     "data": {
      "text/plain": [
       "hotel                              object\n",
       "is_canceled                         int64\n",
       "lead_time                           int64\n",
       "arrival_date_year                   int64\n",
       "arrival_date_month                 object\n",
       "arrival_date_week_number            int64\n",
       "arrival_date_day_of_month           int64\n",
       "stays_in_weekend_nights             int64\n",
       "stays_in_week_nights                int64\n",
       "adults                              int64\n",
       "children                          float64\n",
       "babies                              int64\n",
       "meal                               object\n",
       "country                            object\n",
       "market_segment                     object\n",
       "distribution_channel               object\n",
       "is_repeated_guest                   int64\n",
       "previous_cancellations              int64\n",
       "previous_bookings_not_canceled      int64\n",
       "reserved_room_type                 object\n",
       "assigned_room_type                 object\n",
       "booking_changes                     int64\n",
       "deposit_type                       object\n",
       "agent                             float64\n",
       "company                           float64\n",
       "days_in_waiting_list                int64\n",
       "customer_type                      object\n",
       "adr                               float64\n",
       "required_car_parking_spaces         int64\n",
       "total_of_special_requests           int64\n",
       "reservation_status                 object\n",
       "reservation_status_date            object\n",
       "dtype: object"
      ]
     },
     "execution_count": 3,
     "metadata": {},
     "output_type": "execute_result"
    }
   ],
   "source": [
    "data.dtypes"
   ]
  },
  {
   "cell_type": "code",
   "execution_count": 4,
   "metadata": {},
   "outputs": [
    {
     "data": {
      "text/html": [
       "<div>\n",
       "<style scoped>\n",
       "    .dataframe tbody tr th:only-of-type {\n",
       "        vertical-align: middle;\n",
       "    }\n",
       "\n",
       "    .dataframe tbody tr th {\n",
       "        vertical-align: top;\n",
       "    }\n",
       "\n",
       "    .dataframe thead th {\n",
       "        text-align: right;\n",
       "    }\n",
       "</style>\n",
       "<table border=\"1\" class=\"dataframe\">\n",
       "  <thead>\n",
       "    <tr style=\"text-align: right;\">\n",
       "      <th></th>\n",
       "      <th>hotel</th>\n",
       "      <th>is_canceled</th>\n",
       "      <th>lead_time</th>\n",
       "      <th>arrival_date_year</th>\n",
       "      <th>arrival_date_month</th>\n",
       "      <th>arrival_date_week_number</th>\n",
       "      <th>arrival_date_day_of_month</th>\n",
       "      <th>stays_in_weekend_nights</th>\n",
       "      <th>stays_in_week_nights</th>\n",
       "      <th>adults</th>\n",
       "      <th>...</th>\n",
       "      <th>deposit_type</th>\n",
       "      <th>agent</th>\n",
       "      <th>company</th>\n",
       "      <th>days_in_waiting_list</th>\n",
       "      <th>customer_type</th>\n",
       "      <th>adr</th>\n",
       "      <th>required_car_parking_spaces</th>\n",
       "      <th>total_of_special_requests</th>\n",
       "      <th>reservation_status</th>\n",
       "      <th>reservation_status_date</th>\n",
       "    </tr>\n",
       "  </thead>\n",
       "  <tbody>\n",
       "    <tr>\n",
       "      <th>0</th>\n",
       "      <td>Resort Hotel</td>\n",
       "      <td>0</td>\n",
       "      <td>342</td>\n",
       "      <td>2015</td>\n",
       "      <td>July</td>\n",
       "      <td>27</td>\n",
       "      <td>1</td>\n",
       "      <td>0</td>\n",
       "      <td>0</td>\n",
       "      <td>2</td>\n",
       "      <td>...</td>\n",
       "      <td>No Deposit</td>\n",
       "      <td>NaN</td>\n",
       "      <td>NaN</td>\n",
       "      <td>0</td>\n",
       "      <td>Transient</td>\n",
       "      <td>0.0</td>\n",
       "      <td>0</td>\n",
       "      <td>0</td>\n",
       "      <td>Check-Out</td>\n",
       "      <td>2015-07-01</td>\n",
       "    </tr>\n",
       "    <tr>\n",
       "      <th>1</th>\n",
       "      <td>Resort Hotel</td>\n",
       "      <td>0</td>\n",
       "      <td>737</td>\n",
       "      <td>2015</td>\n",
       "      <td>July</td>\n",
       "      <td>27</td>\n",
       "      <td>1</td>\n",
       "      <td>0</td>\n",
       "      <td>0</td>\n",
       "      <td>2</td>\n",
       "      <td>...</td>\n",
       "      <td>No Deposit</td>\n",
       "      <td>NaN</td>\n",
       "      <td>NaN</td>\n",
       "      <td>0</td>\n",
       "      <td>Transient</td>\n",
       "      <td>0.0</td>\n",
       "      <td>0</td>\n",
       "      <td>0</td>\n",
       "      <td>Check-Out</td>\n",
       "      <td>2015-07-01</td>\n",
       "    </tr>\n",
       "    <tr>\n",
       "      <th>2</th>\n",
       "      <td>Resort Hotel</td>\n",
       "      <td>0</td>\n",
       "      <td>7</td>\n",
       "      <td>2015</td>\n",
       "      <td>July</td>\n",
       "      <td>27</td>\n",
       "      <td>1</td>\n",
       "      <td>0</td>\n",
       "      <td>1</td>\n",
       "      <td>1</td>\n",
       "      <td>...</td>\n",
       "      <td>No Deposit</td>\n",
       "      <td>NaN</td>\n",
       "      <td>NaN</td>\n",
       "      <td>0</td>\n",
       "      <td>Transient</td>\n",
       "      <td>75.0</td>\n",
       "      <td>0</td>\n",
       "      <td>0</td>\n",
       "      <td>Check-Out</td>\n",
       "      <td>2015-07-02</td>\n",
       "    </tr>\n",
       "    <tr>\n",
       "      <th>3</th>\n",
       "      <td>Resort Hotel</td>\n",
       "      <td>0</td>\n",
       "      <td>13</td>\n",
       "      <td>2015</td>\n",
       "      <td>July</td>\n",
       "      <td>27</td>\n",
       "      <td>1</td>\n",
       "      <td>0</td>\n",
       "      <td>1</td>\n",
       "      <td>1</td>\n",
       "      <td>...</td>\n",
       "      <td>No Deposit</td>\n",
       "      <td>304.0</td>\n",
       "      <td>NaN</td>\n",
       "      <td>0</td>\n",
       "      <td>Transient</td>\n",
       "      <td>75.0</td>\n",
       "      <td>0</td>\n",
       "      <td>0</td>\n",
       "      <td>Check-Out</td>\n",
       "      <td>2015-07-02</td>\n",
       "    </tr>\n",
       "    <tr>\n",
       "      <th>4</th>\n",
       "      <td>Resort Hotel</td>\n",
       "      <td>0</td>\n",
       "      <td>14</td>\n",
       "      <td>2015</td>\n",
       "      <td>July</td>\n",
       "      <td>27</td>\n",
       "      <td>1</td>\n",
       "      <td>0</td>\n",
       "      <td>2</td>\n",
       "      <td>2</td>\n",
       "      <td>...</td>\n",
       "      <td>No Deposit</td>\n",
       "      <td>240.0</td>\n",
       "      <td>NaN</td>\n",
       "      <td>0</td>\n",
       "      <td>Transient</td>\n",
       "      <td>98.0</td>\n",
       "      <td>0</td>\n",
       "      <td>1</td>\n",
       "      <td>Check-Out</td>\n",
       "      <td>2015-07-03</td>\n",
       "    </tr>\n",
       "  </tbody>\n",
       "</table>\n",
       "<p>5 rows × 32 columns</p>\n",
       "</div>"
      ],
      "text/plain": [
       "          hotel  is_canceled  lead_time  arrival_date_year arrival_date_month  \\\n",
       "0  Resort Hotel            0        342               2015               July   \n",
       "1  Resort Hotel            0        737               2015               July   \n",
       "2  Resort Hotel            0          7               2015               July   \n",
       "3  Resort Hotel            0         13               2015               July   \n",
       "4  Resort Hotel            0         14               2015               July   \n",
       "\n",
       "   arrival_date_week_number  arrival_date_day_of_month  \\\n",
       "0                        27                          1   \n",
       "1                        27                          1   \n",
       "2                        27                          1   \n",
       "3                        27                          1   \n",
       "4                        27                          1   \n",
       "\n",
       "   stays_in_weekend_nights  stays_in_week_nights  adults  ...  deposit_type  \\\n",
       "0                        0                     0       2  ...    No Deposit   \n",
       "1                        0                     0       2  ...    No Deposit   \n",
       "2                        0                     1       1  ...    No Deposit   \n",
       "3                        0                     1       1  ...    No Deposit   \n",
       "4                        0                     2       2  ...    No Deposit   \n",
       "\n",
       "   agent company days_in_waiting_list customer_type   adr  \\\n",
       "0    NaN     NaN                    0     Transient   0.0   \n",
       "1    NaN     NaN                    0     Transient   0.0   \n",
       "2    NaN     NaN                    0     Transient  75.0   \n",
       "3  304.0     NaN                    0     Transient  75.0   \n",
       "4  240.0     NaN                    0     Transient  98.0   \n",
       "\n",
       "   required_car_parking_spaces  total_of_special_requests  reservation_status  \\\n",
       "0                            0                          0           Check-Out   \n",
       "1                            0                          0           Check-Out   \n",
       "2                            0                          0           Check-Out   \n",
       "3                            0                          0           Check-Out   \n",
       "4                            0                          1           Check-Out   \n",
       "\n",
       "  reservation_status_date  \n",
       "0              2015-07-01  \n",
       "1              2015-07-01  \n",
       "2              2015-07-02  \n",
       "3              2015-07-02  \n",
       "4              2015-07-03  \n",
       "\n",
       "[5 rows x 32 columns]"
      ]
     },
     "execution_count": 4,
     "metadata": {},
     "output_type": "execute_result"
    }
   ],
   "source": [
    "data.head(5) # print first 5 entries of the dataset"
   ]
  },
  {
   "cell_type": "code",
   "execution_count": 5,
   "metadata": {},
   "outputs": [
    {
     "data": {
      "text/plain": [
       "Index(['hotel', 'is_canceled', 'lead_time', 'arrival_date_year',\n",
       "       'arrival_date_month', 'arrival_date_week_number',\n",
       "       'arrival_date_day_of_month', 'stays_in_weekend_nights',\n",
       "       'stays_in_week_nights', 'adults', 'children', 'babies', 'meal',\n",
       "       'country', 'market_segment', 'distribution_channel',\n",
       "       'is_repeated_guest', 'previous_cancellations',\n",
       "       'previous_bookings_not_canceled', 'reserved_room_type',\n",
       "       'assigned_room_type', 'booking_changes', 'deposit_type', 'agent',\n",
       "       'company', 'days_in_waiting_list', 'customer_type', 'adr',\n",
       "       'required_car_parking_spaces', 'total_of_special_requests',\n",
       "       'reservation_status', 'reservation_status_date'],\n",
       "      dtype='object')"
      ]
     },
     "execution_count": 5,
     "metadata": {},
     "output_type": "execute_result"
    }
   ],
   "source": [
    "data.columns # print column names"
   ]
  },
  {
   "cell_type": "markdown",
   "metadata": {},
   "source": [
    "This dataset contains information about bookings of two hotels. Hotel 1 is a resort hotel and Hotel 2 is a city hotel in Portugal. The dataset was released by https://www.sciencedirect.com/science/article/pii/S2352340918315191.\n",
    "\n",
    "There are 32 columns in this dataset:\n",
    "\n",
    "1. **hotel** -- one of the two hotels\n",
    "2. **is_canceled** -- Value indicating if the booking was canceled (1) or not (0)\n",
    "3. **lead_time** -- Number of days that elapsed between the entering date of the booking into the PMS and the arrival date\n",
    "4. ....\n",
    "\n",
    "For the full description of each column please see: https://www.kaggle.com/jessemostipak/hotel-booking-demand"
   ]
  },
  {
   "cell_type": "code",
   "execution_count": 6,
   "metadata": {},
   "outputs": [
    {
     "data": {
      "text/plain": [
       "0         PRT\n",
       "1         PRT\n",
       "2         GBR\n",
       "3         GBR\n",
       "4         GBR\n",
       "         ... \n",
       "119385    BEL\n",
       "119386    FRA\n",
       "119387    DEU\n",
       "119388    GBR\n",
       "119389    DEU\n",
       "Name: country, Length: 119390, dtype: object"
      ]
     },
     "execution_count": 6,
     "metadata": {},
     "output_type": "execute_result"
    }
   ],
   "source": [
    "data['country'] # we can also print each column of the dataset"
   ]
  },
  {
   "cell_type": "code",
   "execution_count": 6,
   "metadata": {},
   "outputs": [
    {
     "data": {
      "text/plain": [
       "array(['PRT', 'GBR', 'USA', 'ESP', 'IRL', 'FRA', nan, 'ROU', 'NOR', 'OMN',\n",
       "       'ARG', 'POL', 'DEU', 'BEL', 'CHE', 'CN', 'GRC', 'ITA', 'NLD',\n",
       "       'DNK', 'RUS', 'SWE', 'AUS', 'EST', 'CZE', 'BRA', 'FIN', 'MOZ',\n",
       "       'BWA', 'LUX', 'SVN', 'ALB', 'IND', 'CHN', 'MEX', 'MAR', 'UKR',\n",
       "       'SMR', 'LVA', 'PRI', 'SRB', 'CHL', 'AUT', 'BLR', 'LTU', 'TUR',\n",
       "       'ZAF', 'AGO', 'ISR', 'CYM', 'ZMB', 'CPV', 'ZWE', 'DZA', 'KOR',\n",
       "       'CRI', 'HUN', 'ARE', 'TUN', 'JAM', 'HRV', 'HKG', 'IRN', 'GEO',\n",
       "       'AND', 'GIB', 'URY', 'JEY', 'CAF', 'CYP', 'COL', 'GGY', 'KWT',\n",
       "       'NGA', 'MDV', 'VEN', 'SVK', 'FJI', 'KAZ', 'PAK', 'IDN', 'LBN',\n",
       "       'PHL', 'SEN', 'SYC', 'AZE', 'BHR', 'NZL', 'THA', 'DOM', 'MKD',\n",
       "       'MYS', 'ARM', 'JPN', 'LKA', 'CUB', 'CMR', 'BIH', 'MUS', 'COM',\n",
       "       'SUR', 'UGA', 'BGR', 'CIV', 'JOR', 'SYR', 'SGP', 'BDI', 'SAU',\n",
       "       'VNM', 'PLW', 'QAT', 'EGY', 'PER', 'MLT', 'MWI', 'ECU', 'MDG',\n",
       "       'ISL', 'UZB', 'NPL', 'BHS', 'MAC', 'TGO', 'TWN', 'DJI', 'STP',\n",
       "       'KNA', 'ETH', 'IRQ', 'HND', 'RWA', 'KHM', 'MCO', 'BGD', 'IMN',\n",
       "       'TJK', 'NIC', 'BEN', 'VGB', 'TZA', 'GAB', 'GHA', 'TMP', 'GLP',\n",
       "       'KEN', 'LIE', 'GNB', 'MNE', 'UMI', 'MYT', 'FRO', 'MMR', 'PAN',\n",
       "       'BFA', 'LBY', 'MLI', 'NAM', 'BOL', 'PRY', 'BRB', 'ABW', 'AIA',\n",
       "       'SLV', 'DMA', 'PYF', 'GUY', 'LCA', 'ATA', 'GTM', 'ASM', 'MRT',\n",
       "       'NCL', 'KIR', 'SDN', 'ATF', 'SLE', 'LAO'], dtype=object)"
      ]
     },
     "execution_count": 6,
     "metadata": {},
     "output_type": "execute_result"
    }
   ],
   "source": [
    "data['country'].unique() # list all unique values in the column"
   ]
  },
  {
   "cell_type": "code",
   "execution_count": 7,
   "metadata": {},
   "outputs": [
    {
     "data": {
      "text/plain": [
       "hotel                             119390\n",
       "is_canceled                       119390\n",
       "lead_time                         119390\n",
       "arrival_date_year                 119390\n",
       "arrival_date_month                119390\n",
       "arrival_date_week_number          119390\n",
       "arrival_date_day_of_month         119390\n",
       "stays_in_weekend_nights           119390\n",
       "stays_in_week_nights              119390\n",
       "adults                            119390\n",
       "children                          119386\n",
       "babies                            119390\n",
       "meal                              119390\n",
       "country                           118902\n",
       "market_segment                    119390\n",
       "distribution_channel              119390\n",
       "is_repeated_guest                 119390\n",
       "previous_cancellations            119390\n",
       "previous_bookings_not_canceled    119390\n",
       "reserved_room_type                119390\n",
       "assigned_room_type                119390\n",
       "booking_changes                   119390\n",
       "deposit_type                      119390\n",
       "agent                             103050\n",
       "company                             6797\n",
       "days_in_waiting_list              119390\n",
       "customer_type                     119390\n",
       "adr                               119390\n",
       "required_car_parking_spaces       119390\n",
       "total_of_special_requests         119390\n",
       "reservation_status                119390\n",
       "reservation_status_date           119390\n",
       "dtype: int64"
      ]
     },
     "execution_count": 7,
     "metadata": {},
     "output_type": "execute_result"
    }
   ],
   "source": [
    "data.count()"
   ]
  },
  {
   "cell_type": "markdown",
   "metadata": {},
   "source": [
    "This dataset contains 119390 different reservations. Some of the reservations have missing values.\n"
   ]
  },
  {
   "cell_type": "code",
   "execution_count": 8,
   "metadata": {},
   "outputs": [
    {
     "data": {
      "text/plain": [
       "array([['Resort Hotel', 0, 342, ..., 0, 'Check-Out', '2015-07-01'],\n",
       "       ['Resort Hotel', 0, 737, ..., 0, 'Check-Out', '2015-07-01'],\n",
       "       ['Resort Hotel', 0, 7, ..., 0, 'Check-Out', '2015-07-02'],\n",
       "       ...,\n",
       "       ['City Hotel', 0, 34, ..., 4, 'Check-Out', '2017-09-07'],\n",
       "       ['City Hotel', 0, 109, ..., 0, 'Check-Out', '2017-09-07'],\n",
       "       ['City Hotel', 0, 205, ..., 2, 'Check-Out', '2017-09-07']],\n",
       "      dtype=object)"
      ]
     },
     "execution_count": 8,
     "metadata": {},
     "output_type": "execute_result"
    }
   ],
   "source": [
    "data.values # A data frame can be converted into a numpy array by calling the values attribute:"
   ]
  },
  {
   "cell_type": "markdown",
   "metadata": {},
   "source": [
    "However this array cannot be directly fed to a scikit-learn model.\n",
    "\n",
    "1. the values are heterogeneous (strings for categories, integers, and floating point numbers)\n",
    "2. some attribute values are missing"
   ]
  },
  {
   "cell_type": "markdown",
   "metadata": {},
   "source": [
    "# Predicting cancellation: Part I -- visualization"
   ]
  },
  {
   "cell_type": "markdown",
   "metadata": {},
   "source": [
    "**Our goals** The goal of this part is to provide few examples of visualization combining ```pandas```, ```matplotlib```, ```seaborn```. "
   ]
  },
  {
   "cell_type": "markdown",
   "metadata": {},
   "source": [
    "We will look at a very natural and practical task -- predicting cancellation of a given reservation. Of course, the first instinct of the modern 'ML practitioner' is to throw all the data to some neural net and perform bunch of fine-tuning. There are really a lot of problems with such an approach. As a general rule of thumbs: explore your data before building ML pipelines! It is alway more interesting to investigate the data and find human-interpretable patterns."
   ]
  },
  {
   "cell_type": "markdown",
   "metadata": {},
   "source": [
    "Pandas allows to manipulate the dataset in a very convenient manner. Those familiar with SQL will certainly appreciate it! \n",
    "\n",
    "As the first visualization task let us understand which monthes have the most amount of cancellations.\n",
    "We start by creating a new dataset that contains the information that we would like to plot."
   ]
  },
  {
   "cell_type": "code",
   "execution_count": 9,
   "metadata": {},
   "outputs": [],
   "source": [
    "\n",
    "'''\n",
    " We create two datasets for each hotel .groupby(\"arrival_date_month\") will group observations by the month\n",
    " and .count() function will simply count the amount of reservations for each month\n",
    "'''\n",
    "n_reserv_H1 = data.loc[(data[\"hotel\"] == \"Resort Hotel\")].groupby(\"arrival_date_month\")[\"hotel\"].count()\n",
    "n_cancel_H1 = data.loc[(data[\"hotel\"] == \"Resort Hotel\")].groupby(\"arrival_date_month\")[\"is_canceled\"].sum()\n",
    "\n",
    "# same thing we do for the second hotel\n",
    "n_reserv_H2 = data.loc[(data[\"hotel\"] == \"City Hotel\")].groupby(\"arrival_date_month\")[\"hotel\"].count()\n",
    "n_cancel_H2 = data.loc[(data[\"hotel\"] == \"City Hotel\")].groupby(\"arrival_date_month\")[\"is_canceled\"].sum()"
   ]
  },
  {
   "cell_type": "code",
   "execution_count": 10,
   "metadata": {},
   "outputs": [
    {
     "data": {
      "text/plain": [
       "arrival_date_month\n",
       "April       3609\n",
       "August      4894\n",
       "December    2648\n",
       "February    3103\n",
       "January     2193\n",
       "Name: hotel, dtype: int64"
      ]
     },
     "execution_count": 10,
     "metadata": {},
     "output_type": "execute_result"
    }
   ],
   "source": [
    "n_reserv_H1.head() # again we can have a look at the top 5 entries"
   ]
  },
  {
   "cell_type": "code",
   "execution_count": 11,
   "metadata": {},
   "outputs": [
    {
     "data": {
      "text/plain": [
       "arrival_date_month\n",
       "April       1059\n",
       "August      1637\n",
       "December     631\n",
       "February     795\n",
       "January      325\n",
       "Name: is_canceled, dtype: int64"
      ]
     },
     "execution_count": 11,
     "metadata": {},
     "output_type": "execute_result"
    }
   ],
   "source": [
    "n_cancel_H1.head()"
   ]
  },
  {
   "cell_type": "code",
   "execution_count": 12,
   "metadata": {},
   "outputs": [
    {
     "data": {
      "text/plain": [
       "3609"
      ]
     },
     "execution_count": 12,
     "metadata": {},
     "output_type": "execute_result"
    }
   ],
   "source": [
    "n_reserv_H1['April'] # number of reservation for Resort Hotel for April"
   ]
  },
  {
   "cell_type": "code",
   "execution_count": 13,
   "metadata": {},
   "outputs": [
    {
     "data": {
      "text/plain": [
       "1059"
      ]
     },
     "execution_count": 13,
     "metadata": {},
     "output_type": "execute_result"
    }
   ],
   "source": [
    "n_cancel_H1['April'] # number of cancelled reservations for Resort Hotel"
   ]
  },
  {
   "cell_type": "code",
   "execution_count": 14,
   "metadata": {},
   "outputs": [],
   "source": [
    "# finally, we gather everything together\n",
    "\n",
    "\n",
    "data_visualH1 = pd.DataFrame({\"hotel\": \"Resort Hotel\",\n",
    "                                \"month\": list(n_reserv_H1.index),\n",
    "                                \"n_booking\": list(n_reserv_H1.values),\n",
    "                                \"n_cancel\": list(n_cancel_H1.values)})\n",
    "data_visualH2 = pd.DataFrame({\"hotel\": \"City Hotel\",\n",
    "                                \"month\": list(n_reserv_H2.index),\n",
    "                                \"n_booking\": list(n_reserv_H2.values),\n",
    "                                \"n_cancel\": list(n_cancel_H2.values)})\n",
    "data_visual = pd.concat([data_visualH1, data_visualH2], ignore_index=True)\n",
    "\n",
    "# notice how easy it is to add a new column. We simply write the following\n",
    "data_visual[\"percent_cancel\"] = data_visual[\"n_cancel\"] / data_visual[\"n_booking\"] * 100 # percent of cancelations"
   ]
  },
  {
   "cell_type": "code",
   "execution_count": 15,
   "metadata": {},
   "outputs": [
    {
     "data": {
      "text/html": [
       "<div>\n",
       "<style scoped>\n",
       "    .dataframe tbody tr th:only-of-type {\n",
       "        vertical-align: middle;\n",
       "    }\n",
       "\n",
       "    .dataframe tbody tr th {\n",
       "        vertical-align: top;\n",
       "    }\n",
       "\n",
       "    .dataframe thead th {\n",
       "        text-align: right;\n",
       "    }\n",
       "</style>\n",
       "<table border=\"1\" class=\"dataframe\">\n",
       "  <thead>\n",
       "    <tr style=\"text-align: right;\">\n",
       "      <th></th>\n",
       "      <th>hotel</th>\n",
       "      <th>month</th>\n",
       "      <th>n_booking</th>\n",
       "      <th>n_cancel</th>\n",
       "      <th>percent_cancel</th>\n",
       "    </tr>\n",
       "  </thead>\n",
       "  <tbody>\n",
       "    <tr>\n",
       "      <th>0</th>\n",
       "      <td>Resort Hotel</td>\n",
       "      <td>April</td>\n",
       "      <td>3609</td>\n",
       "      <td>1059</td>\n",
       "      <td>29.343308</td>\n",
       "    </tr>\n",
       "    <tr>\n",
       "      <th>1</th>\n",
       "      <td>Resort Hotel</td>\n",
       "      <td>August</td>\n",
       "      <td>4894</td>\n",
       "      <td>1637</td>\n",
       "      <td>33.449121</td>\n",
       "    </tr>\n",
       "    <tr>\n",
       "      <th>2</th>\n",
       "      <td>Resort Hotel</td>\n",
       "      <td>December</td>\n",
       "      <td>2648</td>\n",
       "      <td>631</td>\n",
       "      <td>23.829305</td>\n",
       "    </tr>\n",
       "    <tr>\n",
       "      <th>3</th>\n",
       "      <td>Resort Hotel</td>\n",
       "      <td>February</td>\n",
       "      <td>3103</td>\n",
       "      <td>795</td>\n",
       "      <td>25.620367</td>\n",
       "    </tr>\n",
       "    <tr>\n",
       "      <th>4</th>\n",
       "      <td>Resort Hotel</td>\n",
       "      <td>January</td>\n",
       "      <td>2193</td>\n",
       "      <td>325</td>\n",
       "      <td>14.819881</td>\n",
       "    </tr>\n",
       "  </tbody>\n",
       "</table>\n",
       "</div>"
      ],
      "text/plain": [
       "          hotel     month  n_booking  n_cancel  percent_cancel\n",
       "0  Resort Hotel     April       3609      1059       29.343308\n",
       "1  Resort Hotel    August       4894      1637       33.449121\n",
       "2  Resort Hotel  December       2648       631       23.829305\n",
       "3  Resort Hotel  February       3103       795       25.620367\n",
       "4  Resort Hotel   January       2193       325       14.819881"
      ]
     },
     "execution_count": 15,
     "metadata": {},
     "output_type": "execute_result"
    }
   ],
   "source": [
    "data_visual.head() # our final dataset"
   ]
  },
  {
   "cell_type": "code",
   "execution_count": 16,
   "metadata": {},
   "outputs": [
    {
     "data": {
      "image/png": "[encoded data removed]",
      "text/plain": [
       "<Figure size 432x432 with 1 Axes>"
      ]
     },
     "metadata": {
      "needs_background": "light"
     },
     "output_type": "display_data"
    }
   ],
   "source": [
    "# plotting is simple once we have good dataset.\n",
    "plt.figure(figsize=(6, 6))\n",
    "sns.barplot(x = \"month\", y = \"percent_cancel\" , hue=\"hotel\",\n",
    "            hue_order = [\"Resort Hotel\", \"City Hotel\"], data=data_visual)\n",
    "plt.title(\"Cancelations per month\")\n",
    "plt.xticks(rotation=45)\n",
    "plt.ylabel(\"Cancelations [%]\")\n",
    "plt.legend()\n",
    "plt.show()"
   ]
  },
  {
   "cell_type": "markdown",
   "metadata": {},
   "source": [
    "Previous plot is nice, but the ordering of the month is very annoying!\n",
    "\n",
    "**Question 1.** Propose a solution that will re-order the barplot above using standard month ordering. Hint: use ```pd.Categorical()``` function of pandas."
   ]
  },
  {
   "cell_type": "markdown",
   "metadata": {},
   "source": [
    "**Answer:** we have to consider the `month` variable as a categorical and ordered variable (as a factor). The following lines allow to do so. And then we just plot the new `month_categorical` variable using the previous code."
   ]
  },
  {
   "cell_type": "code",
   "execution_count": 17,
   "metadata": {},
   "outputs": [
    {
     "name": "stdout",
     "output_type": "stream",
     "text": [
      "['January', 'February', 'March', 'April', 'May', 'June', 'July', 'August', 'September', 'October', 'November', 'December']\n"
     ]
    }
   ],
   "source": [
    "# create a vector of ordered months\n",
    "months_ordered_from_july = data['arrival_date_month'].unique()\n",
    "months_ordered_from_january = [months_ordered_from_july[i] for i in [*range(6, 12), *range(0, 6)]]\n",
    "print(months_ordered_from_january)\n",
    "\n",
    "#create a new 'month' variable which is categorical\n",
    "data_visual[\"month_categorical\"] = pd.Categorical(data_visual[\"month\"], ordered=True,\n",
    "                   categories=months_ordered_from_january)"
   ]
  },
  {
   "cell_type": "code",
   "execution_count": 18,
   "metadata": {
    "scrolled": true
   },
   "outputs": [
    {
     "data": {
      "image/png": "[encoded data removed]",
      "text/plain": [
       "<Figure size 432x432 with 1 Axes>"
      ]
     },
     "metadata": {
      "needs_background": "light"
     },
     "output_type": "display_data"
    }
   ],
   "source": [
    "plt.figure(figsize=(6, 6))\n",
    "sns.barplot(x = \"month_categorical\", y = \"percent_cancel\" , hue=\"hotel\",\n",
    "            hue_order = [\"Resort Hotel\", \"City Hotel\"], data=data_visual)\n",
    "plt.title(\"Cancelations per month\")\n",
    "plt.xticks(rotation=45)\n",
    "plt.ylabel(\"Cancelations [%]\")\n",
    "plt.legend()\n",
    "plt.show()"
   ]
  },
  {
   "cell_type": "markdown",
   "metadata": {},
   "source": [
    "**Question 2.** Provide interpretation of the above plot."
   ]
  },
  {
   "cell_type": "markdown",
   "metadata": {},
   "source": [
    "**Answer:** The cancelations at the City hotel are, in proportion, higher than in the Resort Hotel. For the Resort hotel, the cancelations are in proportion higher in summer and spring than in winter and fall. On the contrary, this seasonality is less observed for the City hotel, with pics in october, june and december."
   ]
  },
  {
   "cell_type": "markdown",
   "metadata": {},
   "source": [
    "**Question 3.** What is the most and the second most common country of origin for reservations of each hotel?"
   ]
  },
  {
   "cell_type": "markdown",
   "metadata": {},
   "source": [
    "**Answer:** \n",
    "\n",
    "- **Resort Hotel** : the first most common country of origin for reservations is Portugal (PRT) and the second one is Great Britain (GBR)\n",
    "- **City Hotel** : the first most common country of origin for reservations is Portugal (PRT) and the second one is France (FRA)"
   ]
  },
  {
   "cell_type": "code",
   "execution_count": 19,
   "metadata": {},
   "outputs": [
    {
     "data": {
      "text/html": [
       "<div>\n",
       "<style scoped>\n",
       "    .dataframe tbody tr th:only-of-type {\n",
       "        vertical-align: middle;\n",
       "    }\n",
       "\n",
       "    .dataframe tbody tr th {\n",
       "        vertical-align: top;\n",
       "    }\n",
       "\n",
       "    .dataframe thead th {\n",
       "        text-align: right;\n",
       "    }\n",
       "</style>\n",
       "<table border=\"1\" class=\"dataframe\">\n",
       "  <thead>\n",
       "    <tr style=\"text-align: right;\">\n",
       "      <th></th>\n",
       "      <th>hotel</th>\n",
       "      <th>country</th>\n",
       "      <th>n_booking</th>\n",
       "    </tr>\n",
       "  </thead>\n",
       "  <tbody>\n",
       "    <tr>\n",
       "      <th>95</th>\n",
       "      <td>Resort Hotel</td>\n",
       "      <td>PRT</td>\n",
       "      <td>17630</td>\n",
       "    </tr>\n",
       "    <tr>\n",
       "      <th>45</th>\n",
       "      <td>Resort Hotel</td>\n",
       "      <td>GBR</td>\n",
       "      <td>6814</td>\n",
       "    </tr>\n",
       "    <tr>\n",
       "      <th>40</th>\n",
       "      <td>Resort Hotel</td>\n",
       "      <td>ESP</td>\n",
       "      <td>3957</td>\n",
       "    </tr>\n",
       "    <tr>\n",
       "      <th>55</th>\n",
       "      <td>Resort Hotel</td>\n",
       "      <td>IRL</td>\n",
       "      <td>2166</td>\n",
       "    </tr>\n",
       "    <tr>\n",
       "      <th>44</th>\n",
       "      <td>Resort Hotel</td>\n",
       "      <td>FRA</td>\n",
       "      <td>1611</td>\n",
       "    </tr>\n",
       "    <tr>\n",
       "      <th>...</th>\n",
       "      <td>...</td>\n",
       "      <td>...</td>\n",
       "      <td>...</td>\n",
       "    </tr>\n",
       "    <tr>\n",
       "      <th>77</th>\n",
       "      <td>Resort Hotel</td>\n",
       "      <td>MKD</td>\n",
       "      <td>1</td>\n",
       "    </tr>\n",
       "    <tr>\n",
       "      <th>92</th>\n",
       "      <td>Resort Hotel</td>\n",
       "      <td>PLW</td>\n",
       "      <td>1</td>\n",
       "    </tr>\n",
       "    <tr>\n",
       "      <th>90</th>\n",
       "      <td>Resort Hotel</td>\n",
       "      <td>PER</td>\n",
       "      <td>1</td>\n",
       "    </tr>\n",
       "    <tr>\n",
       "      <th>80</th>\n",
       "      <td>Resort Hotel</td>\n",
       "      <td>MUS</td>\n",
       "      <td>1</td>\n",
       "    </tr>\n",
       "    <tr>\n",
       "      <th>30</th>\n",
       "      <td>Resort Hotel</td>\n",
       "      <td>CYM</td>\n",
       "      <td>1</td>\n",
       "    </tr>\n",
       "  </tbody>\n",
       "</table>\n",
       "<p>125 rows × 3 columns</p>\n",
       "</div>"
      ],
      "text/plain": [
       "           hotel country  n_booking\n",
       "95  Resort Hotel     PRT      17630\n",
       "45  Resort Hotel     GBR       6814\n",
       "40  Resort Hotel     ESP       3957\n",
       "55  Resort Hotel     IRL       2166\n",
       "44  Resort Hotel     FRA       1611\n",
       "..           ...     ...        ...\n",
       "77  Resort Hotel     MKD          1\n",
       "92  Resort Hotel     PLW          1\n",
       "90  Resort Hotel     PER          1\n",
       "80  Resort Hotel     MUS          1\n",
       "30  Resort Hotel     CYM          1\n",
       "\n",
       "[125 rows x 3 columns]"
      ]
     },
     "execution_count": 19,
     "metadata": {},
     "output_type": "execute_result"
    }
   ],
   "source": [
    "# Lets create a database following the same model than before but using countries instead of months\n",
    "#First Hotel\n",
    "n2_reserv_H1 = data.loc[(data[\"hotel\"] == \"Resort Hotel\")].groupby(\"country\")[\"hotel\"].count()\n",
    "data2_visualH1 = pd.DataFrame({\"hotel\": \"Resort Hotel\",\n",
    "                                \"country\": list(n2_reserv_H1.index),\n",
    "                                \"n_booking\": list(n2_reserv_H1.values)})\n",
    "data2_visualH1.sort_values(by=['n_booking'], ascending=False)"
   ]
  },
  {
   "cell_type": "code",
   "execution_count": 20,
   "metadata": {},
   "outputs": [
    {
     "data": {
      "text/html": [
       "<div>\n",
       "<style scoped>\n",
       "    .dataframe tbody tr th:only-of-type {\n",
       "        vertical-align: middle;\n",
       "    }\n",
       "\n",
       "    .dataframe tbody tr th {\n",
       "        vertical-align: top;\n",
       "    }\n",
       "\n",
       "    .dataframe thead th {\n",
       "        text-align: right;\n",
       "    }\n",
       "</style>\n",
       "<table border=\"1\" class=\"dataframe\">\n",
       "  <thead>\n",
       "    <tr style=\"text-align: right;\">\n",
       "      <th></th>\n",
       "      <th>hotel</th>\n",
       "      <th>country</th>\n",
       "      <th>n_booking</th>\n",
       "    </tr>\n",
       "  </thead>\n",
       "  <tbody>\n",
       "    <tr>\n",
       "      <th>125</th>\n",
       "      <td>City Hotel</td>\n",
       "      <td>PRT</td>\n",
       "      <td>30960</td>\n",
       "    </tr>\n",
       "    <tr>\n",
       "      <th>50</th>\n",
       "      <td>City Hotel</td>\n",
       "      <td>FRA</td>\n",
       "      <td>8804</td>\n",
       "    </tr>\n",
       "    <tr>\n",
       "      <th>39</th>\n",
       "      <td>City Hotel</td>\n",
       "      <td>DEU</td>\n",
       "      <td>6084</td>\n",
       "    </tr>\n",
       "    <tr>\n",
       "      <th>53</th>\n",
       "      <td>City Hotel</td>\n",
       "      <td>GBR</td>\n",
       "      <td>5315</td>\n",
       "    </tr>\n",
       "    <tr>\n",
       "      <th>46</th>\n",
       "      <td>City Hotel</td>\n",
       "      <td>ESP</td>\n",
       "      <td>4611</td>\n",
       "    </tr>\n",
       "    <tr>\n",
       "      <th>...</th>\n",
       "      <td>...</td>\n",
       "      <td>...</td>\n",
       "      <td>...</td>\n",
       "    </tr>\n",
       "    <tr>\n",
       "      <th>107</th>\n",
       "      <td>City Hotel</td>\n",
       "      <td>MRT</td>\n",
       "      <td>1</td>\n",
       "    </tr>\n",
       "    <tr>\n",
       "      <th>133</th>\n",
       "      <td>City Hotel</td>\n",
       "      <td>SDN</td>\n",
       "      <td>1</td>\n",
       "    </tr>\n",
       "    <tr>\n",
       "      <th>111</th>\n",
       "      <td>City Hotel</td>\n",
       "      <td>NAM</td>\n",
       "      <td>1</td>\n",
       "    </tr>\n",
       "    <tr>\n",
       "      <th>112</th>\n",
       "      <td>City Hotel</td>\n",
       "      <td>NCL</td>\n",
       "      <td>1</td>\n",
       "    </tr>\n",
       "    <tr>\n",
       "      <th>83</th>\n",
       "      <td>City Hotel</td>\n",
       "      <td>KIR</td>\n",
       "      <td>1</td>\n",
       "    </tr>\n",
       "  </tbody>\n",
       "</table>\n",
       "<p>166 rows × 3 columns</p>\n",
       "</div>"
      ],
      "text/plain": [
       "          hotel country  n_booking\n",
       "125  City Hotel     PRT      30960\n",
       "50   City Hotel     FRA       8804\n",
       "39   City Hotel     DEU       6084\n",
       "53   City Hotel     GBR       5315\n",
       "46   City Hotel     ESP       4611\n",
       "..          ...     ...        ...\n",
       "107  City Hotel     MRT          1\n",
       "133  City Hotel     SDN          1\n",
       "111  City Hotel     NAM          1\n",
       "112  City Hotel     NCL          1\n",
       "83   City Hotel     KIR          1\n",
       "\n",
       "[166 rows x 3 columns]"
      ]
     },
     "execution_count": 20,
     "metadata": {},
     "output_type": "execute_result"
    }
   ],
   "source": [
    "#Second Hotel\n",
    "n2_reserv_H2 = data.loc[(data[\"hotel\"] == \"City Hotel\")].groupby(\"country\")[\"hotel\"].count()\n",
    "data2_visualH2 = pd.DataFrame({\"hotel\": \"City Hotel\",\n",
    "                                \"country\": list(n2_reserv_H2.index),\n",
    "                                \"n_booking\": list(n2_reserv_H2.values)})\n",
    "data2_visualH2.sort_values(by=['n_booking'], ascending=False)"
   ]
  },
  {
   "cell_type": "code",
   "execution_count": 21,
   "metadata": {},
   "outputs": [
    {
     "data": {
      "image/png": "[encoded data removed]",
      "text/plain": [
       "<Figure size 432x432 with 1 Axes>"
      ]
     },
     "metadata": {
      "needs_background": "light"
     },
     "output_type": "display_data"
    }
   ],
   "source": [
    "# The plot is unreadable (to many contries)\n",
    "data2_visual = pd.concat([data2_visualH1, data2_visualH2], ignore_index=True)\n",
    "\n",
    "plt.figure(figsize=(6, 6))\n",
    "sns.barplot(x = \"country\", y = \"n_booking\" , hue=\"hotel\",\n",
    "            hue_order = [\"Resort Hotel\", \"City Hotel\"], data=data2_visual)\n",
    "plt.title(\"Reservations per country\")\n",
    "plt.xticks(rotation=45)\n",
    "plt.ylabel(\"Number of reservations\")\n",
    "plt.legend()\n",
    "plt.show()\n",
    "\n",
    "## Commentaire Kim : essayer pour avoir des points bonus de faire\n",
    "# un graphique lisible (orientation horizontale ? )"
   ]
  },
  {
   "cell_type": "markdown",
   "metadata": {},
   "source": [
    "**Question 4.** Plot the number of cancelations for repeated and not repeated guests for both hotels."
   ]
  },
  {
   "cell_type": "markdown",
   "metadata": {},
   "source": [
    "**Answer** : See the 2 plots below the teacher's proposition"
   ]
  },
  {
   "cell_type": "code",
   "execution_count": 22,
   "metadata": {},
   "outputs": [
    {
     "data": {
      "text/plain": [
       "[]"
      ]
     },
     "execution_count": 22,
     "metadata": {},
     "output_type": "execute_result"
    },
    {
     "data": {
      "image/png": "[encoded data removed]",
      "text/plain": [
       "<Figure size 432x432 with 1 Axes>"
      ]
     },
     "metadata": {
      "needs_background": "light"
     },
     "output_type": "display_data"
    }
   ],
   "source": [
    "# For both hotels at the same time (teacher's proposition)\n",
    "plt.figure(figsize=(6, 6))\n",
    "sns.countplot(x=\"is_canceled\", hue='is_repeated_guest', data=data)\n",
    "plt.title(\"Cancelations vs repeated guest\", fontsize=16)\n",
    "plt.plot()"
   ]
  },
  {
   "cell_type": "markdown",
   "metadata": {},
   "source": [
    "Most guests in these two hotels are not repeated, while the repreated guests are less likely to cancel."
   ]
  },
  {
   "cell_type": "code",
   "execution_count": 67,
   "metadata": {},
   "outputs": [
    {
     "data": {
      "text/plain": [
       "[]"
      ]
     },
     "execution_count": 67,
     "metadata": {},
     "output_type": "execute_result"
    },
    {
     "data": {
      "image/png": "[encoded data removed]",
      "text/plain": [
       "<Figure size 432x432 with 1 Axes>"
      ]
     },
     "metadata": {
      "needs_background": "light"
     },
     "output_type": "display_data"
    }
   ],
   "source": [
    "# The same only with City Hotel (H1)\n",
    "plt.figure(figsize=(6, 6))\n",
    "sns.countplot(x=\"is_canceled\", hue='is_repeated_guest', data=data[(data['hotel'] == 'City Hotel')])\n",
    "plt.title(\"Cancelations vs repeated guest in City Hotel (H1)\", fontsize=16)\n",
    "plt.plot()"
   ]
  },
  {
   "cell_type": "code",
   "execution_count": 69,
   "metadata": {},
   "outputs": [
    {
     "data": {
      "text/plain": [
       "[]"
      ]
     },
     "execution_count": 69,
     "metadata": {},
     "output_type": "execute_result"
    },
    {
     "data": {
      "image/png": "[encoded data removed]",
      "text/plain": [
       "<Figure size 432x432 with 1 Axes>"
      ]
     },
     "metadata": {
      "needs_background": "light"
     },
     "output_type": "display_data"
    }
   ],
   "source": [
    "# The same only with Resort Hotel (H2)\n",
    "plt.figure(figsize=(6, 6))\n",
    "sns.countplot(x=\"is_canceled\", hue='is_repeated_guest', data=data[(data['hotel'] == 'Resort Hotel')])\n",
    "plt.title(\"Cancelations vs repeated guest in Resort Hotel (H2)\", fontsize=16)\n",
    "plt.plot()"
   ]
  },
  {
   "cell_type": "markdown",
   "metadata": {},
   "source": [
    "End of question 4."
   ]
  },
  {
   "cell_type": "code",
   "execution_count": 61,
   "metadata": {},
   "outputs": [
    {
     "data": {
      "text/plain": [
       "Text(0, 0.5, 'Count')"
      ]
     },
     "execution_count": 61,
     "metadata": {},
     "output_type": "execute_result"
    },
    {
     "data": {
      "image/png": "[encoded data removed]",
      "text/plain": [
       "<Figure size 432x432 with 1 Axes>"
      ]
     },
     "metadata": {
      "needs_background": "light"
     },
     "output_type": "display_data"
    }
   ],
   "source": [
    "data_req = data[(data['hotel'] == 'City Hotel')].groupby(['total_of_special_requests', 'is_canceled']).size().unstack(level=1)\n",
    "data_req.plot(kind='bar', stacked=True, figsize=(6,6))\n",
    "plt.title('Special Request vs Cancellation in H2 (City Hotel)')\n",
    "plt.xlabel('Number of Special Request', fontsize=10)\n",
    "plt.xticks(rotation=300)\n",
    "plt.ylabel('Count', fontsize=10)"
   ]
  },
  {
   "cell_type": "markdown",
   "metadata": {},
   "source": [
    "Most of the reservations in the city hotel have no special requests and the cancelation in this case is almost 50/50. However, when special requests are made, the cancelation rate is significantly lower.\n"
   ]
  },
  {
   "cell_type": "code",
   "execution_count": 65,
   "metadata": {},
   "outputs": [
    {
     "data": {
      "text/html": [
       "<div>\n",
       "<style scoped>\n",
       "    .dataframe tbody tr th:only-of-type {\n",
       "        vertical-align: middle;\n",
       "    }\n",
       "\n",
       "    .dataframe tbody tr th {\n",
       "        vertical-align: top;\n",
       "    }\n",
       "\n",
       "    .dataframe thead th {\n",
       "        text-align: right;\n",
       "    }\n",
       "</style>\n",
       "<table border=\"1\" class=\"dataframe\">\n",
       "  <thead>\n",
       "    <tr style=\"text-align: right;\">\n",
       "      <th>is_canceled</th>\n",
       "      <th>0</th>\n",
       "      <th>1</th>\n",
       "      <th>percent_0</th>\n",
       "      <th>percent_1</th>\n",
       "    </tr>\n",
       "    <tr>\n",
       "      <th>total_of_special_requests</th>\n",
       "      <th></th>\n",
       "      <th></th>\n",
       "      <th></th>\n",
       "      <th></th>\n",
       "    </tr>\n",
       "  </thead>\n",
       "  <tbody>\n",
       "    <tr>\n",
       "      <th>0</th>\n",
       "      <td>21617</td>\n",
       "      <td>26340</td>\n",
       "      <td>45.075797</td>\n",
       "      <td>54.924203</td>\n",
       "    </tr>\n",
       "    <tr>\n",
       "      <th>1</th>\n",
       "      <td>16699</td>\n",
       "      <td>4721</td>\n",
       "      <td>77.959851</td>\n",
       "      <td>22.040149</td>\n",
       "    </tr>\n",
       "    <tr>\n",
       "      <th>2</th>\n",
       "      <td>6403</td>\n",
       "      <td>1739</td>\n",
       "      <td>78.641611</td>\n",
       "      <td>21.358389</td>\n",
       "    </tr>\n",
       "    <tr>\n",
       "      <th>3</th>\n",
       "      <td>1307</td>\n",
       "      <td>280</td>\n",
       "      <td>82.356648</td>\n",
       "      <td>17.643352</td>\n",
       "    </tr>\n",
       "    <tr>\n",
       "      <th>4</th>\n",
       "      <td>177</td>\n",
       "      <td>21</td>\n",
       "      <td>89.393939</td>\n",
       "      <td>10.606061</td>\n",
       "    </tr>\n",
       "    <tr>\n",
       "      <th>5</th>\n",
       "      <td>25</td>\n",
       "      <td>1</td>\n",
       "      <td>96.153846</td>\n",
       "      <td>3.846154</td>\n",
       "    </tr>\n",
       "  </tbody>\n",
       "</table>\n",
       "</div>"
      ],
      "text/plain": [
       "is_canceled                    0      1  percent_0  percent_1\n",
       "total_of_special_requests                                    \n",
       "0                          21617  26340  45.075797  54.924203\n",
       "1                          16699   4721  77.959851  22.040149\n",
       "2                           6403   1739  78.641611  21.358389\n",
       "3                           1307    280  82.356648  17.643352\n",
       "4                            177     21  89.393939  10.606061\n",
       "5                             25      1  96.153846   3.846154"
      ]
     },
     "execution_count": 65,
     "metadata": {},
     "output_type": "execute_result"
    }
   ],
   "source": [
    "# From raw value to percentage\n",
    "total = [i+j for i,j in zip(data_req[0], data_req[1])]\n",
    "data_req['percent_0'] = [i / j * 100 for i,j in zip(data_req[0], total)]\n",
    "data_req['percent_1'] = [i / j * 100 for i,j in zip(data_req[1], total)]\n",
    "data_req.iloc[:, 2:4]\n",
    "data_req"
   ]
  },
  {
   "cell_type": "code",
   "execution_count": 66,
   "metadata": {},
   "outputs": [
    {
     "data": {
      "text/plain": [
       "Text(0, 0.5, 'Count')"
      ]
     },
     "execution_count": 66,
     "metadata": {},
     "output_type": "execute_result"
    },
    {
     "data": {
      "image/png": "[encoded data removed]",
      "text/plain": [
       "<Figure size 432x432 with 1 Axes>"
      ]
     },
     "metadata": {
      "needs_background": "light"
     },
     "output_type": "display_data"
    }
   ],
   "source": [
    "data_req.iloc[:, 2:4].plot(kind='bar', stacked=True, figsize=(6,6))\n",
    "plt.title('Special Request vs Cancellation in H1 (Resort Hotel)')\n",
    "plt.xlabel('Number of Special Request', fontsize=10)\n",
    "plt.xticks(rotation=300)\n",
    "plt.ylabel('Count', fontsize=10)"
   ]
  },
  {
   "cell_type": "markdown",
   "metadata": {},
   "source": [
    "\n",
    "**Question 5.** Make the same plot for Resort Hotel. Make your conclusions.\n",
    "\n",
    "**Answer**\n",
    "\n",
    "Most of the reservations in the Resort Hotel have no special requests and the cancelation in this case is almost of 32 %. However, when special requests are made, the cancelation rate is lower (22 % when 1 special request is made, 23 % when 2 special requests are made, 18 % when 3 special request is made, 11 % when 4 special request is made, 7 % when 5 special request is made), but not as lower as with the City Hotel. \n"
   ]
  },
  {
   "cell_type": "code",
   "execution_count": 44,
   "metadata": {},
   "outputs": [
    {
     "data": {
      "text/plain": [
       "Text(0, 0.5, 'Count')"
      ]
     },
     "execution_count": 44,
     "metadata": {},
     "output_type": "execute_result"
    },
    {
     "data": {
      "image/png": "[encoded data removed]",
      "text/plain": [
       "<Figure size 432x432 with 1 Axes>"
      ]
     },
     "metadata": {
      "needs_background": "light"
     },
     "output_type": "display_data"
    }
   ],
   "source": [
    "data_req2 = data[(data['hotel'] == 'Resort Hotel')].groupby(['total_of_special_requests',\n",
    "                                                             'is_canceled']).size().unstack(level=1)\n",
    "data_req.iloc[:, 2:4].plot(kind='bar', stacked=True, figsize=(6,6))\n",
    "plt.title('Special Request vs Cancellation in H2 (City Hotel)')\n",
    "plt.xlabel('Number of Special Request', fontsize=10)\n",
    "plt.xticks(rotation=300)\n",
    "plt.ylabel('Percentage', fontsize=10)"
   ]
  },
  {
   "cell_type": "code",
   "execution_count": 56,
   "metadata": {},
   "outputs": [
    {
     "data": {
      "text/html": [
       "<div>\n",
       "<style scoped>\n",
       "    .dataframe tbody tr th:only-of-type {\n",
       "        vertical-align: middle;\n",
       "    }\n",
       "\n",
       "    .dataframe tbody tr th {\n",
       "        vertical-align: top;\n",
       "    }\n",
       "\n",
       "    .dataframe thead th {\n",
       "        text-align: right;\n",
       "    }\n",
       "</style>\n",
       "<table border=\"1\" class=\"dataframe\">\n",
       "  <thead>\n",
       "    <tr style=\"text-align: right;\">\n",
       "      <th>is_canceled</th>\n",
       "      <th>percent_0</th>\n",
       "      <th>percent_1</th>\n",
       "    </tr>\n",
       "    <tr>\n",
       "      <th>total_of_special_requests</th>\n",
       "      <th></th>\n",
       "      <th></th>\n",
       "    </tr>\n",
       "  </thead>\n",
       "  <tbody>\n",
       "    <tr>\n",
       "      <th>0</th>\n",
       "      <td>67.729529</td>\n",
       "      <td>32.270471</td>\n",
       "    </tr>\n",
       "    <tr>\n",
       "      <th>1</th>\n",
       "      <td>78.002710</td>\n",
       "      <td>21.997290</td>\n",
       "    </tr>\n",
       "    <tr>\n",
       "      <th>2</th>\n",
       "      <td>76.652165</td>\n",
       "      <td>23.347835</td>\n",
       "    </tr>\n",
       "    <tr>\n",
       "      <th>3</th>\n",
       "      <td>81.758242</td>\n",
       "      <td>18.241758</td>\n",
       "    </tr>\n",
       "    <tr>\n",
       "      <th>4</th>\n",
       "      <td>89.436620</td>\n",
       "      <td>10.563380</td>\n",
       "    </tr>\n",
       "    <tr>\n",
       "      <th>5</th>\n",
       "      <td>92.857143</td>\n",
       "      <td>7.142857</td>\n",
       "    </tr>\n",
       "  </tbody>\n",
       "</table>\n",
       "</div>"
      ],
      "text/plain": [
       "is_canceled                percent_0  percent_1\n",
       "total_of_special_requests                      \n",
       "0                          67.729529  32.270471\n",
       "1                          78.002710  21.997290\n",
       "2                          76.652165  23.347835\n",
       "3                          81.758242  18.241758\n",
       "4                          89.436620  10.563380\n",
       "5                          92.857143   7.142857"
      ]
     },
     "execution_count": 56,
     "metadata": {},
     "output_type": "execute_result"
    }
   ],
   "source": [
    "# From raw value to percentage\n",
    "total = [i+j for i,j in zip(data_req2[0], data_req2[1])]\n",
    "data_req2['percent_0'] = [i / j * 100 for i,j in zip(data_req2[0], total)]\n",
    "data_req2['percent_1'] = [i / j * 100 for i,j in zip(data_req2[1], total)]\n",
    "data_req2.iloc[:, 2:4]"
   ]
  },
  {
   "cell_type": "code",
   "execution_count": 53,
   "metadata": {},
   "outputs": [
    {
     "data": {
      "text/plain": [
       "Text(0, 0.5, 'Percentage')"
      ]
     },
     "execution_count": 53,
     "metadata": {},
     "output_type": "execute_result"
    },
    {
     "data": {
      "image/png": "[encoded data removed]",
      "text/plain": [
       "<Figure size 432x432 with 1 Axes>"
      ]
     },
     "metadata": {
      "needs_background": "light"
     },
     "output_type": "display_data"
    }
   ],
   "source": [
    "data_req2.iloc[:, 2:4].plot(kind='bar', stacked=True, figsize=(6,6))\n",
    "plt.title('Special Request vs Cancellation in H1 (Resort Hotel)')\n",
    "plt.xlabel('Number of Special Request', fontsize=10)\n",
    "plt.xticks(rotation=300)\n",
    "plt.ylabel('Percentage', fontsize=10)"
   ]
  },
  {
   "cell_type": "markdown",
   "metadata": {},
   "source": [
    "# Predicting cancellations: Part II -- ML"
   ]
  },
  {
   "cell_type": "markdown",
   "metadata": {},
   "source": [
    "**Our goals** The main message here is -- do not re-invent the wheel. The following few lines of code highlight the simplicity with which we can combine ```pandas``` dataframes and ```sklearn``` models. By learning few simple tools (i.e. ```pipeline```, ```gridsearchcv```) our code becomes readable, compact, and can be used to build extra features on top of it."
   ]
  },
  {
   "cell_type": "code",
   "execution_count": 4,
   "metadata": {},
   "outputs": [],
   "source": [
    "from sklearn.pipeline import Pipeline\n",
    "from sklearn.compose import ColumnTransformer\n",
    "from sklearn.preprocessing import OneHotEncoder\n",
    "from sklearn.impute import SimpleImputer\n",
    "from sklearn.linear_model import LogisticRegression\n",
    "from sklearn.model_selection import GridSearchCV"
   ]
  },
  {
   "cell_type": "code",
   "execution_count": 5,
   "metadata": {},
   "outputs": [],
   "source": [
    "numeric_features = [\"lead_time\", \"arrival_date_week_number\", \"total_of_special_requests\"]\n",
    "categorical_features = [\"hotel\", \"market_segment\",\"deposit_type\",\"customer_type\"]\n",
    "features = numeric_features + categorical_features\n",
    "X = data.drop([\"is_canceled\"], axis=1)[features]\n",
    "y = data[\"is_canceled\"]"
   ]
  },
  {
   "cell_type": "markdown",
   "metadata": {},
   "source": [
    "Before using any ML algorithm from sklearn we need to handle missing values. There is no unique answer on how to deal with missing values in your dataset. We will use possibly the simplest approach. First of all if the feature is numerical and is misisng, we are going to replace it with zero. Secondly, if the feature is categorical and is missing, then we are going to define a new category and call it ```Not defined```."
   ]
  },
  {
   "cell_type": "code",
   "execution_count": 6,
   "metadata": {},
   "outputs": [],
   "source": [
    "numeric_transformer = SimpleImputer(strategy=\"constant\", fill_value=0) # to deal with missing numeric data\n",
    "categorical_transformer = Pipeline(steps=[\n",
    "                                    (\"imputer\", SimpleImputer(strategy=\"constant\", fill_value=\"Not defined\")),\n",
    "                                    (\"onehot\", OneHotEncoder(handle_unknown='ignore'))]) # to deal with missing categorical data \n",
    "preproc = ColumnTransformer(transformers=[(\"num\", numeric_transformer, numeric_features),\n",
    "                                          (\"cat\", categorical_transformer, categorical_features)])"
   ]
  },
  {
   "cell_type": "markdown",
   "metadata": {},
   "source": [
    "**Question:** What is ```OneHotEncoder()```? Why do we use it in our case?"
   ]
  },
  {
   "cell_type": "markdown",
   "metadata": {},
   "source": [
    "**Answer:**\n",
    "\n",
    "One-Hot-Encoding is a way (among others such as label encoding) to convert categorical values into numerical values because most of the ML algorithms work better with numerical inputs.  In this strategy, each category value is converted into a new column and assigned a 1 or 0 (notation for true/false) value to the column. Let’s consider the previous example of the names of the hotels (first column) with one-hot encoding (2 last columns). See just below.\n",
    "\n",
    "We use it in our case because **many variables are categorical** : hotel, arrival_date_month, customer_type, company, deposit_type, ...\n",
    "\n",
    "*Source : see [here](https://towardsdatascience.com/categorical-encoding-using-label-encoding-and-one-hot-encoder-911ef77fb5bd).*"
   ]
  },
  {
   "cell_type": "code",
   "execution_count": 7,
   "metadata": {},
   "outputs": [
    {
     "data": {
      "text/html": [
       "<div>\n",
       "<style scoped>\n",
       "    .dataframe tbody tr th:only-of-type {\n",
       "        vertical-align: middle;\n",
       "    }\n",
       "\n",
       "    .dataframe tbody tr th {\n",
       "        vertical-align: top;\n",
       "    }\n",
       "\n",
       "    .dataframe thead th {\n",
       "        text-align: right;\n",
       "    }\n",
       "</style>\n",
       "<table border=\"1\" class=\"dataframe\">\n",
       "  <thead>\n",
       "    <tr style=\"text-align: right;\">\n",
       "      <th></th>\n",
       "      <th>hotel</th>\n",
       "      <th>0</th>\n",
       "      <th>1</th>\n",
       "    </tr>\n",
       "  </thead>\n",
       "  <tbody>\n",
       "    <tr>\n",
       "      <th>0</th>\n",
       "      <td>Resort Hotel</td>\n",
       "      <td>0.0</td>\n",
       "      <td>1.0</td>\n",
       "    </tr>\n",
       "    <tr>\n",
       "      <th>1</th>\n",
       "      <td>Resort Hotel</td>\n",
       "      <td>0.0</td>\n",
       "      <td>1.0</td>\n",
       "    </tr>\n",
       "    <tr>\n",
       "      <th>2</th>\n",
       "      <td>Resort Hotel</td>\n",
       "      <td>0.0</td>\n",
       "      <td>1.0</td>\n",
       "    </tr>\n",
       "    <tr>\n",
       "      <th>3</th>\n",
       "      <td>Resort Hotel</td>\n",
       "      <td>0.0</td>\n",
       "      <td>1.0</td>\n",
       "    </tr>\n",
       "    <tr>\n",
       "      <th>4</th>\n",
       "      <td>Resort Hotel</td>\n",
       "      <td>0.0</td>\n",
       "      <td>1.0</td>\n",
       "    </tr>\n",
       "  </tbody>\n",
       "</table>\n",
       "</div>"
      ],
      "text/plain": [
       "          hotel    0    1\n",
       "0  Resort Hotel  0.0  1.0\n",
       "1  Resort Hotel  0.0  1.0\n",
       "2  Resort Hotel  0.0  1.0\n",
       "3  Resort Hotel  0.0  1.0\n",
       "4  Resort Hotel  0.0  1.0"
      ]
     },
     "execution_count": 7,
     "metadata": {},
     "output_type": "execute_result"
    }
   ],
   "source": [
    "import pandas as pd\n",
    "import numpy as np\n",
    "from sklearn.preprocessing import OneHotEncoder \n",
    "# creating instance of one-hot-encoder\n",
    "enc = OneHotEncoder(handle_unknown='ignore')\n",
    "# passing hotel-types-cat column (label encoded values of bridge_types)\n",
    "enc_df = pd.DataFrame(enc.fit_transform(data[['hotel']]).toarray())\n",
    "# merge with main dataframe on key values\n",
    "hotel_df = data.iloc[:, 0:1].join(enc_df)\n",
    "hotel_df.head()"
   ]
  },
  {
   "cell_type": "markdown",
   "metadata": {},
   "source": [
    "Now imagine a situation when you want to try a lot of different models and for each model you want to make some cross-validation to select the best hyperparameters. On top of that you want to preprocess the data so that you feed something meaningfull into each method.\n",
    "\n",
    "The next chunk of code shows how to do it."
   ]
  },
  {
   "cell_type": "code",
   "execution_count": 9,
   "metadata": {},
   "outputs": [
    {
     "name": "stderr",
     "output_type": "stream",
     "text": [
      "C:\\Users\\isabe\\anaconda3\\lib\\site-packages\\sklearn\\linear_model\\_logistic.py:762: ConvergenceWarning: lbfgs failed to converge (status=1):\n",
      "STOP: TOTAL NO. of ITERATIONS REACHED LIMIT.\n",
      "\n",
      "Increase the number of iterations (max_iter) or scale the data as shown in:\n",
      "    https://scikit-learn.org/stable/modules/preprocessing.html\n",
      "Please also refer to the documentation for alternative solver options:\n",
      "    https://scikit-learn.org/stable/modules/linear_model.html#logistic-regression\n",
      "  n_iter_i = _check_optimize_result(\n",
      "C:\\Users\\isabe\\anaconda3\\lib\\site-packages\\sklearn\\linear_model\\_logistic.py:762: ConvergenceWarning: lbfgs failed to converge (status=1):\n",
      "STOP: TOTAL NO. of ITERATIONS REACHED LIMIT.\n",
      "\n",
      "Increase the number of iterations (max_iter) or scale the data as shown in:\n",
      "    https://scikit-learn.org/stable/modules/preprocessing.html\n",
      "Please also refer to the documentation for alternative solver options:\n",
      "    https://scikit-learn.org/stable/modules/linear_model.html#logistic-regression\n",
      "  n_iter_i = _check_optimize_result(\n",
      "C:\\Users\\isabe\\anaconda3\\lib\\site-packages\\sklearn\\linear_model\\_logistic.py:762: ConvergenceWarning: lbfgs failed to converge (status=1):\n",
      "STOP: TOTAL NO. of ITERATIONS REACHED LIMIT.\n",
      "\n",
      "Increase the number of iterations (max_iter) or scale the data as shown in:\n",
      "    https://scikit-learn.org/stable/modules/preprocessing.html\n",
      "Please also refer to the documentation for alternative solver options:\n",
      "    https://scikit-learn.org/stable/modules/linear_model.html#logistic-regression\n",
      "  n_iter_i = _check_optimize_result(\n",
      "C:\\Users\\isabe\\anaconda3\\lib\\site-packages\\sklearn\\linear_model\\_logistic.py:762: ConvergenceWarning: lbfgs failed to converge (status=1):\n",
      "STOP: TOTAL NO. of ITERATIONS REACHED LIMIT.\n",
      "\n",
      "Increase the number of iterations (max_iter) or scale the data as shown in:\n",
      "    https://scikit-learn.org/stable/modules/preprocessing.html\n",
      "Please also refer to the documentation for alternative solver options:\n",
      "    https://scikit-learn.org/stable/modules/linear_model.html#logistic-regression\n",
      "  n_iter_i = _check_optimize_result(\n",
      "C:\\Users\\isabe\\anaconda3\\lib\\site-packages\\sklearn\\linear_model\\_logistic.py:762: ConvergenceWarning: lbfgs failed to converge (status=1):\n",
      "STOP: TOTAL NO. of ITERATIONS REACHED LIMIT.\n",
      "\n",
      "Increase the number of iterations (max_iter) or scale the data as shown in:\n",
      "    https://scikit-learn.org/stable/modules/preprocessing.html\n",
      "Please also refer to the documentation for alternative solver options:\n",
      "    https://scikit-learn.org/stable/modules/linear_model.html#logistic-regression\n",
      "  n_iter_i = _check_optimize_result(\n",
      "C:\\Users\\isabe\\anaconda3\\lib\\site-packages\\sklearn\\linear_model\\_logistic.py:762: ConvergenceWarning: lbfgs failed to converge (status=1):\n",
      "STOP: TOTAL NO. of ITERATIONS REACHED LIMIT.\n",
      "\n",
      "Increase the number of iterations (max_iter) or scale the data as shown in:\n",
      "    https://scikit-learn.org/stable/modules/preprocessing.html\n",
      "Please also refer to the documentation for alternative solver options:\n",
      "    https://scikit-learn.org/stable/modules/linear_model.html#logistic-regression\n",
      "  n_iter_i = _check_optimize_result(\n",
      "C:\\Users\\isabe\\anaconda3\\lib\\site-packages\\sklearn\\linear_model\\_logistic.py:762: ConvergenceWarning: lbfgs failed to converge (status=1):\n",
      "STOP: TOTAL NO. of ITERATIONS REACHED LIMIT.\n",
      "\n",
      "Increase the number of iterations (max_iter) or scale the data as shown in:\n",
      "    https://scikit-learn.org/stable/modules/preprocessing.html\n",
      "Please also refer to the documentation for alternative solver options:\n",
      "    https://scikit-learn.org/stable/modules/linear_model.html#logistic-regression\n",
      "  n_iter_i = _check_optimize_result(\n",
      "C:\\Users\\isabe\\anaconda3\\lib\\site-packages\\sklearn\\linear_model\\_logistic.py:762: ConvergenceWarning: lbfgs failed to converge (status=1):\n",
      "STOP: TOTAL NO. of ITERATIONS REACHED LIMIT.\n",
      "\n",
      "Increase the number of iterations (max_iter) or scale the data as shown in:\n",
      "    https://scikit-learn.org/stable/modules/preprocessing.html\n",
      "Please also refer to the documentation for alternative solver options:\n",
      "    https://scikit-learn.org/stable/modules/linear_model.html#logistic-regression\n",
      "  n_iter_i = _check_optimize_result(\n",
      "C:\\Users\\isabe\\anaconda3\\lib\\site-packages\\sklearn\\linear_model\\_logistic.py:762: ConvergenceWarning: lbfgs failed to converge (status=1):\n",
      "STOP: TOTAL NO. of ITERATIONS REACHED LIMIT.\n",
      "\n",
      "Increase the number of iterations (max_iter) or scale the data as shown in:\n",
      "    https://scikit-learn.org/stable/modules/preprocessing.html\n",
      "Please also refer to the documentation for alternative solver options:\n",
      "    https://scikit-learn.org/stable/modules/linear_model.html#logistic-regression\n",
      "  n_iter_i = _check_optimize_result(\n"
     ]
    },
    {
     "name": "stdout",
     "output_type": "stream",
     "text": [
      "Results for logreg\n",
      "{'mean_fit_time': array([4.07087485, 5.98240336, 5.58862392, 6.13180327, 6.71705214]), 'std_fit_time': array([1.22126722, 0.15632184, 0.62971467, 0.53611471, 0.32931622]), 'mean_score_time': array([0.13229084, 0.12428069, 0.11837212, 0.09969886, 0.12810993]), 'std_score_time': array([0.01828847, 0.0097287 , 0.00330041, 0.00781952, 0.00295324]), 'param_logreg__C': masked_array(data=[0.25, 0.5, 1.0, 2.0, 4.0],\n",
      "             mask=[False, False, False, False, False],\n",
      "       fill_value='?',\n",
      "            dtype=object), 'params': [{'logreg__C': 0.25}, {'logreg__C': 0.5}, {'logreg__C': 1.0}, {'logreg__C': 2.0}, {'logreg__C': 4.0}], 'split0_test_score': array([0.70156042, 0.70123376, 0.70120863, 0.70196246, 0.70128402]), 'split1_test_score': array([0.78204387, 0.78149107, 0.78191824, 0.78242079, 0.78151619]), 'split2_test_score': array([0.73630516, 0.73841592, 0.73680772, 0.73522465, 0.73680772]), 'mean_test_score': array([0.73996982, 0.74038025, 0.7399782 , 0.7398693 , 0.73986931]), 'std_test_score': array([0.03295926, 0.03279434, 0.03302574, 0.03301076, 0.03282611]), 'rank_test_score': array([3, 1, 2, 5, 4])}\n"
     ]
    },
    {
     "name": "stderr",
     "output_type": "stream",
     "text": [
      "C:\\Users\\isabe\\anaconda3\\lib\\site-packages\\sklearn\\linear_model\\_logistic.py:762: ConvergenceWarning: lbfgs failed to converge (status=1):\n",
      "STOP: TOTAL NO. of ITERATIONS REACHED LIMIT.\n",
      "\n",
      "Increase the number of iterations (max_iter) or scale the data as shown in:\n",
      "    https://scikit-learn.org/stable/modules/preprocessing.html\n",
      "Please also refer to the documentation for alternative solver options:\n",
      "    https://scikit-learn.org/stable/modules/linear_model.html#logistic-regression\n",
      "  n_iter_i = _check_optimize_result(\n"
     ]
    }
   ],
   "source": [
    "models = [(\"logreg\", LogisticRegression(max_iter=500))]\n",
    "grids = {\"logreg\" : {'logreg__C': np.logspace(-2, 2, 5, base=2)}}\n",
    "for name, model in models:\n",
    "    pipe = Pipeline(steps=[('preprocessor', preproc), (name, model)])\n",
    "    clf = GridSearchCV(pipe, grids[name], cv=3)\n",
    "    clf.fit(X, y)\n",
    "    print('Results for {}'.format(name))\n",
    "    print(clf.cv_results_)"
   ]
  },
  {
   "cell_type": "markdown",
   "metadata": {},
   "source": [
    "**Question:** In the previous example we again encounter the convergence problem. Of course we can set higher number of iterations, but it is time consuming. As you have seen, proper normalization can resolve the issue. Insert a normalization step in the pipeline. Note that we do not want to normalize the categorical data, it simply does not make sense. Be careful to normalize only the numerical data. Did it resolve the warning?\n",
    "\n",
    "\n"
   ]
  },
  {
   "cell_type": "markdown",
   "metadata": {},
   "source": [
    "**Answer :**\n",
    "To normalize the numeric features of the data, we modify the `numeric_transformer`.\n",
    "    \n",
    "    #numeric_transformer = SimpleImputer(strategy=\"constant\", fill_value=0) # to deal with missing numeric data\n",
    "    \n",
    "We change it into the following pipeline : \n",
    "\n",
    "    from sklearn.preprocessing import StandardScaler\n",
    "    numeric_transformer = Pipeline(steps=[\n",
    "                                        (\"imputer\", SimpleImputer(strategy=\"constant\", fill_value=0)),\n",
    "                                        (\"scaler\", StandardScaler())]) #NEW : rescale the data !\n",
    "\n",
    "And it solved the warning!\n"
   ]
  },
  {
   "cell_type": "code",
   "execution_count": 12,
   "metadata": {},
   "outputs": [],
   "source": [
    "from sklearn.preprocessing import StandardScaler\n",
    "#numeric_transformer = SimpleImputer(strategy=\"constant\", fill_value=0) # to deal with missing numeric data\n",
    "numeric_transformer = Pipeline(steps=[\n",
    "                                    (\"imputer\", SimpleImputer(strategy=\"constant\", fill_value=0)),\n",
    "                                    (\"scaler\", StandardScaler())]) #NEW : rescale the data !\n",
    "preproc = ColumnTransformer(transformers=[(\"num\", numeric_transformer, numeric_features),\n",
    "                                          (\"cat\", categorical_transformer, categorical_features)])"
   ]
  },
  {
   "cell_type": "code",
   "execution_count": 13,
   "metadata": {},
   "outputs": [
    {
     "name": "stdout",
     "output_type": "stream",
     "text": [
      "Results for logreg\n",
      "{'mean_fit_time': array([2.55837496, 2.69537322, 2.88611603, 1.86789171, 2.02035022]), 'std_fit_time': array([0.52094459, 0.72350944, 0.80383829, 0.22110134, 0.2407612 ]), 'mean_score_time': array([0.14228789, 0.14925655, 0.14003483, 0.11128235, 0.12549829]), 'std_score_time': array([0.00849074, 0.0085241 , 0.01707868, 0.02100821, 0.01747902]), 'param_logreg__C': masked_array(data=[0.25, 0.5, 1.0, 2.0, 4.0],\n",
      "             mask=[False, False, False, False, False],\n",
      "       fill_value='?',\n",
      "            dtype=object), 'params': [{'logreg__C': 0.25}, {'logreg__C': 0.5}, {'logreg__C': 1.0}, {'logreg__C': 2.0}, {'logreg__C': 4.0}], 'split0_test_score': array([0.70128402, 0.7000779 , 0.68552906, 0.67786517, 0.66600498]), 'split1_test_score': array([0.78262181, 0.78244591, 0.78232028, 0.78221977, 0.78219464]), 'split2_test_score': array([0.73585285, 0.73582772, 0.73582772, 0.736079  , 0.736079  ]), 'mean_test_score': array([0.73991956, 0.73945051, 0.73455902, 0.73205464, 0.72809287]), 'std_test_score': array([0.03333029, 0.03372404, 0.03952503, 0.04269752, 0.04776919]), 'rank_test_score': array([1, 2, 3, 4, 5])}\n"
     ]
    }
   ],
   "source": [
    "models = [(\"logreg\", LogisticRegression(max_iter=500))]\n",
    "grids = {\"logreg\" : {'logreg__C': np.logspace(-2, 2, 5, base=2)}}\n",
    "for name, model in models:\n",
    "    pipe = Pipeline(steps=[('preprocessor', preproc), (name, model)])\n",
    "    clf = GridSearchCV(pipe, grids[name], cv=3)\n",
    "    clf.fit(X, y)\n",
    "    print('Results for {}'.format(name))\n",
    "    print(clf.cv_results_)"
   ]
  },
  {
   "cell_type": "markdown",
   "metadata": {},
   "source": [
    "\n",
    "**Question:** As we can see, previous code uses only logistic regression. Modify the above code inserting your favorite ML method.\n"
   ]
  },
  {
   "cell_type": "markdown",
   "metadata": {},
   "source": [
    "**Answer** : \n",
    "\n",
    "Below, you can see the same actions but using the **SVM** method instead of logistic regressions. The main differences are: \n",
    "\n",
    "- This time we use the following scaler : `MaxAbsScaler()`\n",
    "- We use `LinearSVC()` instead of `LogisticRegression()`\n",
    "- We test the parameter `svc__C` instead of `logreg__C`\n",
    "\n",
    "=> The results of SVM seem to be a bit better than the ones for the logistic regression : the mean test scores are globally higher. \n",
    "\n",
    "<mark> @Isabelle Merci pour le débuggage ! Bonne idée le dataframe, je t'ai proposé de ne garder que quelques colonnes pour pouvoir inclure le tableau dans le rapport final (sinon trop large). \n",
    "Pour le fait de mettre les deux modèles dans la boucle : oui tu as raison c'est ce qu'il attendait à mon avis ! Et je n'ai conservé que ce dernier code du coup !</mark>\n",
    "    \n",
    "<mark>Pour ce qui est du choix entre MinMaxScaler et StandardScaler j'ai lu : \"If the distribution of the quantity is normal, then it should be standardized, otherwise, the data should be normalized. Evaluate models on data prepared with each transform and use the transform or combination of transforms that result in the best performance for your data set on your model.\" => Donc je ne sais pas dans quel cas on est et pour choisir la meilleure façon est de comparer la perf entre les deux. Peut-être l'as-tu fait pour vouloir choisir MinMax ?\n",
    "</mark>"
   ]
  },
  {
   "cell_type": "code",
   "execution_count": 8,
   "metadata": {},
   "outputs": [
    {
     "name": "stdout",
     "output_type": "stream",
     "text": [
      "Results for logreg\n"
     ]
    },
    {
     "data": {
      "text/html": [
       "<div>\n",
       "<style scoped>\n",
       "    .dataframe tbody tr th:only-of-type {\n",
       "        vertical-align: middle;\n",
       "    }\n",
       "\n",
       "    .dataframe tbody tr th {\n",
       "        vertical-align: top;\n",
       "    }\n",
       "\n",
       "    .dataframe thead th {\n",
       "        text-align: right;\n",
       "    }\n",
       "</style>\n",
       "<table border=\"1\" class=\"dataframe\">\n",
       "  <thead>\n",
       "    <tr style=\"text-align: right;\">\n",
       "      <th></th>\n",
       "      <th>params</th>\n",
       "      <th>mean_test_score</th>\n",
       "      <th>std_test_score</th>\n",
       "      <th>rank_test_score</th>\n",
       "    </tr>\n",
       "  </thead>\n",
       "  <tbody>\n",
       "    <tr>\n",
       "      <th>0</th>\n",
       "      <td>{'logreg__C': 0.25}</td>\n",
       "      <td>0.739911</td>\n",
       "      <td>0.033078</td>\n",
       "      <td>1</td>\n",
       "    </tr>\n",
       "    <tr>\n",
       "      <th>1</th>\n",
       "      <td>{'logreg__C': 0.5}</td>\n",
       "      <td>0.739308</td>\n",
       "      <td>0.033697</td>\n",
       "      <td>2</td>\n",
       "    </tr>\n",
       "    <tr>\n",
       "      <th>2</th>\n",
       "      <td>{'logreg__C': 1.0}</td>\n",
       "      <td>0.734727</td>\n",
       "      <td>0.039153</td>\n",
       "      <td>3</td>\n",
       "    </tr>\n",
       "    <tr>\n",
       "      <th>3</th>\n",
       "      <td>{'logreg__C': 2.0}</td>\n",
       "      <td>0.731234</td>\n",
       "      <td>0.043418</td>\n",
       "      <td>4</td>\n",
       "    </tr>\n",
       "    <tr>\n",
       "      <th>4</th>\n",
       "      <td>{'logreg__C': 4.0}</td>\n",
       "      <td>0.727992</td>\n",
       "      <td>0.047488</td>\n",
       "      <td>5</td>\n",
       "    </tr>\n",
       "  </tbody>\n",
       "</table>\n",
       "</div>"
      ],
      "text/plain": [
       "                params  mean_test_score  std_test_score  rank_test_score\n",
       "0  {'logreg__C': 0.25}         0.739911        0.033078                1\n",
       "1   {'logreg__C': 0.5}         0.739308        0.033697                2\n",
       "2   {'logreg__C': 1.0}         0.734727        0.039153                3\n",
       "3   {'logreg__C': 2.0}         0.731234        0.043418                4\n",
       "4   {'logreg__C': 4.0}         0.727992        0.047488                5"
      ]
     },
     "metadata": {},
     "output_type": "display_data"
    },
    {
     "name": "stdout",
     "output_type": "stream",
     "text": [
      "Results for svc\n"
     ]
    },
    {
     "data": {
      "text/html": [
       "<div>\n",
       "<style scoped>\n",
       "    .dataframe tbody tr th:only-of-type {\n",
       "        vertical-align: middle;\n",
       "    }\n",
       "\n",
       "    .dataframe tbody tr th {\n",
       "        vertical-align: top;\n",
       "    }\n",
       "\n",
       "    .dataframe thead th {\n",
       "        text-align: right;\n",
       "    }\n",
       "</style>\n",
       "<table border=\"1\" class=\"dataframe\">\n",
       "  <thead>\n",
       "    <tr style=\"text-align: right;\">\n",
       "      <th></th>\n",
       "      <th>params</th>\n",
       "      <th>mean_test_score</th>\n",
       "      <th>std_test_score</th>\n",
       "      <th>rank_test_score</th>\n",
       "    </tr>\n",
       "  </thead>\n",
       "  <tbody>\n",
       "    <tr>\n",
       "      <th>0</th>\n",
       "      <td>{'svc__C': 0.25}</td>\n",
       "      <td>0.740933</td>\n",
       "      <td>0.036266</td>\n",
       "      <td>1</td>\n",
       "    </tr>\n",
       "    <tr>\n",
       "      <th>1</th>\n",
       "      <td>{'svc__C': 0.5}</td>\n",
       "      <td>0.738647</td>\n",
       "      <td>0.039248</td>\n",
       "      <td>2</td>\n",
       "    </tr>\n",
       "    <tr>\n",
       "      <th>2</th>\n",
       "      <td>{'svc__C': 1.0}</td>\n",
       "      <td>0.737424</td>\n",
       "      <td>0.040830</td>\n",
       "      <td>3</td>\n",
       "    </tr>\n",
       "    <tr>\n",
       "      <th>3</th>\n",
       "      <td>{'svc__C': 2.0}</td>\n",
       "      <td>0.735489</td>\n",
       "      <td>0.043405</td>\n",
       "      <td>4</td>\n",
       "    </tr>\n",
       "    <tr>\n",
       "      <th>4</th>\n",
       "      <td>{'svc__C': 4.0}</td>\n",
       "      <td>0.734057</td>\n",
       "      <td>0.045323</td>\n",
       "      <td>5</td>\n",
       "    </tr>\n",
       "  </tbody>\n",
       "</table>\n",
       "</div>"
      ],
      "text/plain": [
       "             params  mean_test_score  std_test_score  rank_test_score\n",
       "0  {'svc__C': 0.25}         0.740933        0.036266                1\n",
       "1   {'svc__C': 0.5}         0.738647        0.039248                2\n",
       "2   {'svc__C': 1.0}         0.737424        0.040830                3\n",
       "3   {'svc__C': 2.0}         0.735489        0.043405                4\n",
       "4   {'svc__C': 4.0}         0.734057        0.045323                5"
      ]
     },
     "metadata": {},
     "output_type": "display_data"
    }
   ],
   "source": [
    "from sklearn.svm import LinearSVC\n",
    "from sklearn.preprocessing import MinMaxScaler\n",
    "numeric_transformer = Pipeline(steps=[\n",
    "                                    (\"imputer\", SimpleImputer(strategy=\"constant\", fill_value=0)),\n",
    "                                    (\"scaler\", MinMaxScaler())]) #NEW : MinMaxScaler\n",
    "preproc = ColumnTransformer(transformers=[(\"num\", numeric_transformer, numeric_features),\n",
    "                                          (\"cat\", categorical_transformer, categorical_features)])\n",
    "models = [(\"logreg\", LogisticRegression(max_iter=500)),\n",
    "          (\"svc\", LinearSVC(max_iter=700))]\n",
    "grids = {\"logreg\" : {'logreg__C': np.logspace(-2, 2, 5, base=2)},\n",
    "         \"svc\" : {'svc__C': np.logspace(-2, 2, 5, base=2)}}\n",
    "for name, model in models:\n",
    "    pipe = Pipeline(steps=[('preprocessor', preproc), (name, model)])\n",
    "    clf = GridSearchCV(pipe, grids[name], cv=3)\n",
    "    clf.fit(X, y)\n",
    "    print('Results for {}'.format(name))\n",
    "    #print(clf.cv_results_)\n",
    "    display(pd.DataFrame(clf.cv_results_)[['params','mean_test_score', 'std_test_score',\n",
    "                                           'rank_test_score']])"
   ]
  },
  {
   "cell_type": "markdown",
   "metadata": {},
   "source": [
    "**Remark:** Note that in this part we picked only a small subset of features. We could have used other features as well.\n"
   ]
  },
  {
   "cell_type": "markdown",
   "metadata": {},
   "source": [
    "# The homework"
   ]
  },
  {
   "cell_type": "markdown",
   "metadata": {},
   "source": [
    "**The story!**\n",
    "You are a data scientist working for the hotel, one day the manager comes and tells you.\n",
    "\n",
    "In our hotels we have an option to offer a parking spot, which costs money. Apparently, not every customer is aware that we have such an option. I really want to offer parking spots for everyone who needs it, because the hotel can earn more money like that. Look, I can send an SMS notification to our customers. Of course SMS are not free, and, moreover, people get very much angry if they receive stupid notifications for no reason. For each new reservation, I would like to decide if I should or shouldn't send the notification to the customer.\n",
    "\n",
    "**Problem** Explore your data to help the manager and construct a prediction algorithm, using the above template as an inspiration. \n",
    "\n",
    "**Warning!** Be aware, that some columns are not actually avaiable at the moment of reservation. For instance, the target column ```is_canceled``` from the previous part clearly cannot be observed at the moment when we need to decide to send the SMS."
   ]
  },
  {
   "cell_type": "code",
   "execution_count": 18,
   "metadata": {},
   "outputs": [],
   "source": [
    "#import packages for part III\n",
    "from sklearn.pipeline import Pipeline\n",
    "from sklearn.compose import ColumnTransformer\n",
    "from sklearn.preprocessing import OneHotEncoder\n",
    "from sklearn.impute import SimpleImputer\n",
    "from sklearn.linear_model import LogisticRegression\n",
    "from sklearn.model_selection import GridSearchCV\n",
    "from sklearn.preprocessing import MinMaxScaler\n",
    "from sklearn.model_selection import train_test_split\n",
    "from sklearn.utils import shuffle"
   ]
  },
  {
   "cell_type": "markdown",
   "metadata": {},
   "source": [
    "### Choice of variables available \n",
    "\n",
    "We first **delete** from the dataset **4 features** that cannot be observed at the moment when the SMS is sent : \n",
    "`is_canceled`, `assigned_room_type`, `reservation_status` and `reservation_status_date`. See below for more details about these variables. \n",
    "\n",
    "-**hotel** : Hotel (H1 = Resort Hotel or H2 = City Hotel)\n",
    " \n",
    "-<s>**is_canceled** : Value indicating if the booking was canceled (1) or not (0)</s>\n",
    "\n",
    "-**lead_time** : Number of days that elapsed between the entering date of the booking into the PMS and the arrival date\n",
    "\n",
    "-**arrival_date_year** : Year of arrival date\n",
    "\n",
    "-**arrival_date_month** : Month of arrival date\n",
    "\n",
    "-**arrival_date_week_number** : Week number of year for arrival date\n",
    "\n",
    "-**arrival_date_day_of_month** : Day of arrival date\n",
    "\n",
    "-**stays_in_weekend_nights** : Number of weekend nights (Saturday or Sunday) the guest stayed or booked to stay at the hotel\n",
    "\n",
    "-**stays_in_week_nights** : Number of week nights (Monday to Friday) the guest stayed or booked to stay at the hotel\n",
    "\n",
    "-**adults** : Number of adults\n",
    "\n",
    "-**children** : Number of children\n",
    "\n",
    "-**babies** : Number of babies\n",
    "\n",
    "-**meal** : Type of meal booked. Categories are presented in standard hospitality meal packages: Undefined/SC – no meal package; BB – Bed & Breakfast; HB – Half board (breakfast and one other meal – usually dinner); FB – Full board (breakfast, lunch and dinner)\n",
    "\n",
    "-**country** : Country of origin. Categories are represented in the ISO 3155–3:2013 format\n",
    "\n",
    "-**market_segment** : Market segment designation. In categories, the term “TA” means “Travel Agents” and “TO” means “Tour Operators”\n",
    "\n",
    "-**distribution_channel** : Booking distribution channel. The term “TA” means “Travel Agents” and “TO” means “Tour Operators”\n",
    "\n",
    "-**is_repeated_guest** : Value indicating if the booking name was from a repeated guest (1) or not (0)\n",
    "\n",
    "-**previous_cancellations** : Number of previous bookings that were cancelled by the customer prior to the current booking\n",
    "\n",
    "-**previous_bookings_not_canceled** : Number of previous bookings not cancelled by the customer prior to the current booking\n",
    "\n",
    "-**reserved_room_type** : Code of room type reserved. Code is presented instead of designation for anonymity reasons.\n",
    "\n",
    "<s>-**assigned_room_type** : Code for the type of room assigned to the booking. Sometimes the assigned room type differs from the reserved room type due to hotel operation reasons (e.g. overbooking) or by customer request. Code is presented instead of designation for anonymity reasons.</s>\n",
    "\n",
    "-**booking_changes** : Number of changes/amendments made to the booking from the moment the booking was entered on the PMS \n",
    "\n",
    "-**deposit_type** : Indication on if the customer made a deposit to guarantee the booking. This variable can assume three categories: No Deposit – no deposit was made; Non Refund – a deposit was made in the value of the total stay cost; Refundable – a deposit was made with a value under the total cost of stay.\n",
    "\n",
    "-**agent** : ID of the travel agency that made the booking\n",
    "\n",
    "-**company** : ID of the company/entity that made the booking or responsible for paying the booking. ID is presented instead of designation for anonymity reasons\n",
    "\n",
    "-**days_in_waiting_list** : Number of days the booking was in the waiting list before it was confirmed to the customer\n",
    "\n",
    "-**customer_type** : Type of booking, assuming one of four categories: Contract - when the booking has an allotment or other type of contract associated to it; Group – when the booking is associated to a group; Transient – when the booking is not part of a group or contract, and is not associated to other transient booking; Transient-party – when the booking is transient, but is associated to at least other transient booking\n",
    "\n",
    "-**adr** : Average Daily Rate as defined by dividing the sum of all lodging transactions by the total number of staying nights\n",
    "\n",
    "-**required_car_parking_spaces** : Number of car parking spaces required by the customer\n",
    "\n",
    "-**total_of_special_requests** :  Number of special requests made by the customer (e.g. twin bed or high floor)\n",
    "\n",
    "<s>-**reservation_status** : Reservation last status, assuming one of three categories: Canceled – booking was canceled by the customer; Check-Out – customer has checked in but already departed; No-Show – customer did not check-in and did inform the hotel of the reason why</s>\n",
    "\n",
    "<s>-**reservation_status_date** : Date at which the last status was set. This variable can be used in conjunction with the ReservationStatus</s>"
   ]
  },
  {
   "cell_type": "code",
   "execution_count": 22,
   "metadata": {},
   "outputs": [],
   "source": [
    "data2 = data.copy()\n",
    "\n",
    "# New variable : boolean of value 1 if required_car_parking_spaces > 0\n",
    "data2[\"bool_parking\"] = data2[\"required_car_parking_spaces\"] > 0 \n",
    "data2[\"bool_parking\"] = data2[\"bool_parking\"].astype(int)\n",
    "\n",
    "#We select the remaining features\n",
    "numeric_features = [\"lead_time\", \"arrival_date_year\",\n",
    "                    \"adr\",\n",
    "                    \"arrival_date_week_number\",\n",
    "                    \"arrival_date_day_of_month\", \"stays_in_weekend_nights\", \"stays_in_week_nights\", \n",
    "                    \"adults\", \"children\",\n",
    "                    \"babies\", \"previous_cancellations\", \n",
    "                    \"days_in_waiting_list\", \"previous_bookings_not_canceled\", \"booking_changes\", \n",
    "                    \"total_of_special_requests\"]\n",
    "categorical_features = [\"meal\", \"country\", \"market_segment\", \"distribution_channel\",\n",
    "                        \"hotel\", \"reserved_room_type\", \"deposit_type\",#\"agent\", \"company\" BUG AVEC CES VARS\n",
    "                       \"customer_type\",\"is_repeated_guest\",\"arrival_date_month\"] #\"bool_parking\"                       \n",
    "features = numeric_features + categorical_features\n",
    "\n",
    "#Transformers\n",
    "numeric_transformer = Pipeline(steps=[\n",
    "                                    (\"imputer\", SimpleImputer(strategy=\"constant\", fill_value=0)),\n",
    "                                    (\"scaler\", MinMaxScaler())]) \n",
    "categorical_transformer = Pipeline(steps=[\n",
    "                                    (\"imputer\", SimpleImputer(strategy=\"constant\", fill_value=\"Not defined\")),\n",
    "                                    (\"onehot\", OneHotEncoder(handle_unknown='ignore'))]) #\n",
    "preproc = ColumnTransformer(transformers=[(\"num\", numeric_transformer, numeric_features),\n",
    "                                          (\"cat\", categorical_transformer, categorical_features)])\n",
    "\n",
    "#And we chance the type of some variables from numeric to categorical\n",
    "data2[\"agent\"] = data2[\"agent\"].astype('object')\n",
    "#data2[\"company\"] = data2[\"company\"].astype('object')\n",
    "#data2[\"is_repeated_guest\"] = data2[\"is_repeated_guest\"].astype('object')\n",
    "\n",
    "# And drop the 4 which are not available in advance\n",
    "X = data2.drop([\"is_canceled\",\"assigned_room_type\",\"reservation_status\",\"reservation_status_date\"],\n",
    "              axis=1)[features]\n",
    "y = data2[\"bool_parking\"]\n",
    "\n",
    "#Create a test and a training set\n",
    "\n",
    "X, y = shuffle(X,y)\n",
    "X_train, X_test, y_train, y_test = train_test_split(X, y)\n",
    "\n",
    "X_preproc = preproc.fit_transform(X)\n",
    "X_train_preproc, X_test_preproc, y_train_preproc, y_test_preproc = train_test_split(X_preproc, y_preproc)\n"
   ]
  },
  {
   "cell_type": "code",
   "execution_count": 17,
   "metadata": {
    "scrolled": true
   },
   "outputs": [
    {
     "data": {
      "text/plain": [
       "lead_time                           int64\n",
       "arrival_date_year                   int64\n",
       "adr                               float64\n",
       "arrival_date_week_number            int64\n",
       "arrival_date_day_of_month           int64\n",
       "stays_in_weekend_nights             int64\n",
       "stays_in_week_nights                int64\n",
       "adults                              int64\n",
       "children                          float64\n",
       "babies                              int64\n",
       "previous_cancellations              int64\n",
       "days_in_waiting_list                int64\n",
       "previous_bookings_not_canceled      int64\n",
       "booking_changes                     int64\n",
       "total_of_special_requests           int64\n",
       "meal                               object\n",
       "country                            object\n",
       "market_segment                     object\n",
       "distribution_channel               object\n",
       "hotel                              object\n",
       "reserved_room_type                 object\n",
       "deposit_type                       object\n",
       "customer_type                      object\n",
       "is_repeated_guest                   int64\n",
       "arrival_date_month                 object\n",
       "dtype: object"
      ]
     },
     "execution_count": 17,
     "metadata": {},
     "output_type": "execute_result"
    }
   ],
   "source": [
    "X.dtypes"
   ]
  },
  {
   "cell_type": "markdown",
   "metadata": {},
   "source": [
    "### Descriptive plot\n",
    "\n",
    "Now, we do some plots to see what kind of variables seem to be important to predict the outcome `bool_parking`. \n",
    "\n",
    "These plots make us draw some first conclusions about the interestring predictors of the outcome : \n",
    "\n",
    "People more susceptible to use a parking are People : \n",
    "\n",
    "- coming in groups and transient travellers : guests who are predominantly on-the-move and seek short hotel-stays (`customer_type = Group` or `Transient`)\n",
    "- going to the Resort Hotel (`hotel = Resort Hotel`) => It may mean that we should do 2 different predictive models, one for each hotel\n",
    "- who book directly at the hotel (`market_segment = direct`)\n",
    "- who book a certain kind of room (`reserved_room_type = H`) but for anonymity reasons we don't know what it represents\n",
    "- coming in the summer (`arrival_date_week_number` around `25`)\n",
    "- who don't book in advance (`lead_time` close to `0`)\n",
    "- rich (`adr` is `high`)\n",
    "- who have children (children is `high`)"
   ]
  },
  {
   "cell_type": "code",
   "execution_count": 21,
   "metadata": {},
   "outputs": [
    {
     "data": {
      "image/png": "[encoded data removed]",
      "text/plain": [
       "<Figure size 1382.4x288 with 1 Axes>"
      ]
     },
     "metadata": {
      "needs_background": "light"
     },
     "output_type": "display_data"
    },
    {
     "data": {
      "image/png": "[encoded data removed]",
      "text/plain": [
       "<Figure size 1382.4x288 with 1 Axes>"
      ]
     },
     "metadata": {
      "needs_background": "light"
     },
     "output_type": "display_data"
    },
    {
     "data": {
      "image/png": "[encoded data removed]",
      "text/plain": [
       "<Figure size 1382.4x288 with 1 Axes>"
      ]
     },
     "metadata": {
      "needs_background": "light"
     },
     "output_type": "display_data"
    },
    {
     "data": {
      "image/png": "[encoded data removed]",
      "text/plain": [
       "<Figure size 1382.4x288 with 1 Axes>"
      ]
     },
     "metadata": {
      "needs_background": "light"
     },
     "output_type": "display_data"
    },
    {
     "data": {
      "image/png": "[encoded data removed]",
      "text/plain": [
       "<Figure size 1382.4x288 with 1 Axes>"
      ]
     },
     "metadata": {
      "needs_background": "light"
     },
     "output_type": "display_data"
    },
    {
     "data": {
      "image/png": "[encoded data removed]",
      "text/plain": [
       "<Figure size 1382.4x288 with 1 Axes>"
      ]
     },
     "metadata": {
      "needs_background": "light"
     },
     "output_type": "display_data"
    },
    {
     "data": {
      "image/png": "[encoded data removed]",
      "text/plain": [
       "<Figure size 1382.4x288 with 1 Axes>"
      ]
     },
     "metadata": {
      "needs_background": "light"
     },
     "output_type": "display_data"
    },
    {
     "data": {
      "image/png": "[encoded data removed]",
      "text/plain": [
       "<Figure size 1382.4x288 with 1 Axes>"
      ]
     },
     "metadata": {
      "needs_background": "light"
     },
     "output_type": "display_data"
    },
    {
     "data": {
      "image/png": "[encoded data removed]",
      "text/plain": [
       "<Figure size 1382.4x288 with 1 Axes>"
      ]
     },
     "metadata": {
      "needs_background": "light"
     },
     "output_type": "display_data"
    }
   ],
   "source": [
    "#------ Pour exécuter le code Javascript IPython dans JupyterLab -----------\n",
    "%matplotlib inline\n",
    "#--------------------------------------------------------\n",
    "############# categorical variables\n",
    "#variables = list(categorical_features[i] for i in [0,1,2,len(categorical_features)-1] ) #3,4,5,6,7,8,9\n",
    "variables = categorical_features.copy()\n",
    "variables.append(\"bool_parking\")\n",
    "#variables.pop(10) #variable company not very interesting to plot (to many of them)\n",
    "#variables.pop(9) #variable agent not very intersting to plot (to many of them)\n",
    "variables.pop(1) #variable country not very intersting to plot (to many of them)\n",
    "df = data2.filter(variables)\n",
    "df = pd.melt(df, df.columns[-1], df.columns[:-1])\n",
    "#df.head()\n",
    "# percentages\n",
    "df = df.groupby(['variable','value'])['bool_parking'].value_counts(normalize=True)\n",
    "df = df.mul(100)\n",
    "df = df.rename('percent').reset_index()\n",
    "#df.head()\n",
    "#g = sns.catplot(x=\"value\", y=\"percent\", hue=\"bool_parking\", col=\"variable\", data=df,\n",
    "#               col_wrap=3, kind=\"bar\", sharex=False, sharey=True,legend_out=False) #height=2.5,aspect=.8, \n",
    "#g.add_legend()\n",
    "for vExpl in list(variables):\n",
    "    if vExpl != 'bool_parking':\n",
    "        data_graph = df[(df['variable'] == vExpl)]\n",
    "        g = sns.catplot(x=\"value\", y=\"percent\", hue=\"bool_parking\", col=\"variable\", data=data_graph,\n",
    "               col_wrap=3, kind=\"bar\", sharex=False, sharey=True,legend_out=False, height=4,aspect=1.6)"
   ]
  },
  {
   "cell_type": "code",
   "execution_count": 137,
   "metadata": {},
   "outputs": [
    {
     "data": {
      "application/javascript": [
       "/* Put everything inside the global mpl namespace */\n",
       "/* global mpl */\n",
       "window.mpl = {};\n",
       "\n",
       "mpl.get_websocket_type = function () {\n",
       "    if (typeof WebSocket !== 'undefined') {\n",
       "        return WebSocket;\n",
       "    } else if (typeof MozWebSocket !== 'undefined') {\n",
       "        return MozWebSocket;\n",
       "    } else {\n",
       "        alert(\n",
       "            'Your browser does not have WebSocket support. ' +\n",
       "                'Please try Chrome, Safari or Firefox ≥ 6. ' +\n",
       "                'Firefox 4 and 5 are also supported but you ' +\n",
       "                'have to enable WebSockets in about:config.'\n",
       "        );\n",
       "    }\n",
       "};\n",
       "\n",
       "mpl.figure = function (figure_id, websocket, ondownload, parent_element) {\n",
       "    this.id = figure_id;\n",
       "\n",
       "    this.ws = websocket;\n",
       "\n",
       "    this.supports_binary = this.ws.binaryType !== undefined;\n",
       "\n",
       "    if (!this.supports_binary) {\n",
       "        var warnings = document.getElementById('mpl-warnings');\n",
       "        if (warnings) {\n",
       "            warnings.style.display = 'block';\n",
       "            warnings.textContent =\n",
       "                'This browser does not support binary websocket messages. ' +\n",
       "                'Performance may be slow.';\n",
       "        }\n",
       "    }\n",
       "\n",
       "    this.imageObj = new Image();\n",
       "\n",
       "    this.context = undefined;\n",
       "    this.message = undefined;\n",
       "    this.canvas = undefined;\n",
       "    this.rubberband_canvas = undefined;\n",
       "    this.rubberband_context = undefined;\n",
       "    this.format_dropdown = undefined;\n",
       "\n",
       "    this.image_mode = 'full';\n",
       "\n",
       "    this.root = document.createElement('div');\n",
       "    this.root.setAttribute('style', 'display: inline-block');\n",
       "    this._root_extra_style(this.root);\n",
       "\n",
       "    parent_element.appendChild(this.root);\n",
       "\n",
       "    this._init_header(this);\n",
       "    this._init_canvas(this);\n",
       "    this._init_toolbar(this);\n",
       "\n",
       "    var fig = this;\n",
       "\n",
       "    this.waiting = false;\n",
       "\n",
       "    this.ws.onopen = function () {\n",
       "        fig.send_message('supports_binary', { value: fig.supports_binary });\n",
       "        fig.send_message('send_image_mode', {});\n",
       "        if (fig.ratio !== 1) {\n",
       "            fig.send_message('set_dpi_ratio', { dpi_ratio: fig.ratio });\n",
       "        }\n",
       "        fig.send_message('refresh', {});\n",
       "    };\n",
       "\n",
       "    this.imageObj.onload = function () {\n",
       "        if (fig.image_mode === 'full') {\n",
       "            // Full images could contain transparency (where diff images\n",
       "            // almost always do), so we need to clear the canvas so that\n",
       "            // there is no ghosting.\n",
       "            fig.context.clearRect(0, 0, fig.canvas.width, fig.canvas.height);\n",
       "        }\n",
       "        fig.context.drawImage(fig.imageObj, 0, 0);\n",
       "    };\n",
       "\n",
       "    this.imageObj.onunload = function () {\n",
       "        fig.ws.close();\n",
       "    };\n",
       "\n",
       "    this.ws.onmessage = this._make_on_message_function(this);\n",
       "\n",
       "    this.ondownload = ondownload;\n",
       "};\n",
       "\n",
       "mpl.figure.prototype._init_header = function () {\n",
       "    var titlebar = document.createElement('div');\n",
       "    titlebar.classList =\n",
       "        'ui-dialog-titlebar ui-widget-header ui-corner-all ui-helper-clearfix';\n",
       "    var titletext = document.createElement('div');\n",
       "    titletext.classList = 'ui-dialog-title';\n",
       "    titletext.setAttribute(\n",
       "        'style',\n",
       "        'width: 100%; text-align: center; padding: 3px;'\n",
       "    );\n",
       "    titlebar.appendChild(titletext);\n",
       "    this.root.appendChild(titlebar);\n",
       "    this.header = titletext;\n",
       "};\n",
       "\n",
       "mpl.figure.prototype._canvas_extra_style = function (_canvas_div) {};\n",
       "\n",
       "mpl.figure.prototype._root_extra_style = function (_canvas_div) {};\n",
       "\n",
       "mpl.figure.prototype._init_canvas = function () {\n",
       "    var fig = this;\n",
       "\n",
       "    var canvas_div = (this.canvas_div = document.createElement('div'));\n",
       "    canvas_div.setAttribute(\n",
       "        'style',\n",
       "        'border: 1px solid #ddd;' +\n",
       "            'box-sizing: content-box;' +\n",
       "            'clear: both;' +\n",
       "            'min-height: 1px;' +\n",
       "            'min-width: 1px;' +\n",
       "            'outline: 0;' +\n",
       "            'overflow: hidden;' +\n",
       "            'position: relative;' +\n",
       "            'resize: both;'\n",
       "    );\n",
       "\n",
       "    function on_keyboard_event_closure(name) {\n",
       "        return function (event) {\n",
       "            return fig.key_event(event, name);\n",
       "        };\n",
       "    }\n",
       "\n",
       "    canvas_div.addEventListener(\n",
       "        'keydown',\n",
       "        on_keyboard_event_closure('key_press')\n",
       "    );\n",
       "    canvas_div.addEventListener(\n",
       "        'keyup',\n",
       "        on_keyboard_event_closure('key_release')\n",
       "    );\n",
       "\n",
       "    this._canvas_extra_style(canvas_div);\n",
       "    this.root.appendChild(canvas_div);\n",
       "\n",
       "    var canvas = (this.canvas = document.createElement('canvas'));\n",
       "    canvas.classList.add('mpl-canvas');\n",
       "    canvas.setAttribute('style', 'box-sizing: content-box;');\n",
       "\n",
       "    this.context = canvas.getContext('2d');\n",
       "\n",
       "    var backingStore =\n",
       "        this.context.backingStorePixelRatio ||\n",
       "        this.context.webkitBackingStorePixelRatio ||\n",
       "        this.context.mozBackingStorePixelRatio ||\n",
       "        this.context.msBackingStorePixelRatio ||\n",
       "        this.context.oBackingStorePixelRatio ||\n",
       "        this.context.backingStorePixelRatio ||\n",
       "        1;\n",
       "\n",
       "    this.ratio = (window.devicePixelRatio || 1) / backingStore;\n",
       "    if (this.ratio !== 1) {\n",
       "        fig.send_message('set_dpi_ratio', { dpi_ratio: this.ratio });\n",
       "    }\n",
       "\n",
       "    var rubberband_canvas = (this.rubberband_canvas = document.createElement(\n",
       "        'canvas'\n",
       "    ));\n",
       "    rubberband_canvas.setAttribute(\n",
       "        'style',\n",
       "        'box-sizing: content-box; position: absolute; left: 0; top: 0; z-index: 1;'\n",
       "    );\n",
       "\n",
       "    var resizeObserver = new ResizeObserver(function (entries) {\n",
       "        var nentries = entries.length;\n",
       "        for (var i = 0; i < nentries; i++) {\n",
       "            var entry = entries[i];\n",
       "            var width, height;\n",
       "            if (entry.contentBoxSize) {\n",
       "                if (entry.contentBoxSize instanceof Array) {\n",
       "                    // Chrome 84 implements new version of spec.\n",
       "                    width = entry.contentBoxSize[0].inlineSize;\n",
       "                    height = entry.contentBoxSize[0].blockSize;\n",
       "                } else {\n",
       "                    // Firefox implements old version of spec.\n",
       "                    width = entry.contentBoxSize.inlineSize;\n",
       "                    height = entry.contentBoxSize.blockSize;\n",
       "                }\n",
       "            } else {\n",
       "                // Chrome <84 implements even older version of spec.\n",
       "                width = entry.contentRect.width;\n",
       "                height = entry.contentRect.height;\n",
       "            }\n",
       "\n",
       "            // Keep the size of the canvas and rubber band canvas in sync with\n",
       "            // the canvas container.\n",
       "            if (entry.devicePixelContentBoxSize) {\n",
       "                // Chrome 84 implements new version of spec.\n",
       "                canvas.setAttribute(\n",
       "                    'width',\n",
       "                    entry.devicePixelContentBoxSize[0].inlineSize\n",
       "                );\n",
       "                canvas.setAttribute(\n",
       "                    'height',\n",
       "                    entry.devicePixelContentBoxSize[0].blockSize\n",
       "                );\n",
       "            } else {\n",
       "                canvas.setAttribute('width', width * fig.ratio);\n",
       "                canvas.setAttribute('height', height * fig.ratio);\n",
       "            }\n",
       "            canvas.setAttribute(\n",
       "                'style',\n",
       "                'width: ' + width + 'px; height: ' + height + 'px;'\n",
       "            );\n",
       "\n",
       "            rubberband_canvas.setAttribute('width', width);\n",
       "            rubberband_canvas.setAttribute('height', height);\n",
       "\n",
       "            // And update the size in Python. We ignore the initial 0/0 size\n",
       "            // that occurs as the element is placed into the DOM, which should\n",
       "            // otherwise not happen due to the minimum size styling.\n",
       "            if (width != 0 && height != 0) {\n",
       "                fig.request_resize(width, height);\n",
       "            }\n",
       "        }\n",
       "    });\n",
       "    resizeObserver.observe(canvas_div);\n",
       "\n",
       "    function on_mouse_event_closure(name) {\n",
       "        return function (event) {\n",
       "            return fig.mouse_event(event, name);\n",
       "        };\n",
       "    }\n",
       "\n",
       "    rubberband_canvas.addEventListener(\n",
       "        'mousedown',\n",
       "        on_mouse_event_closure('button_press')\n",
       "    );\n",
       "    rubberband_canvas.addEventListener(\n",
       "        'mouseup',\n",
       "        on_mouse_event_closure('button_release')\n",
       "    );\n",
       "    // Throttle sequential mouse events to 1 every 20ms.\n",
       "    rubberband_canvas.addEventListener(\n",
       "        'mousemove',\n",
       "        on_mouse_event_closure('motion_notify')\n",
       "    );\n",
       "\n",
       "    rubberband_canvas.addEventListener(\n",
       "        'mouseenter',\n",
       "        on_mouse_event_closure('figure_enter')\n",
       "    );\n",
       "    rubberband_canvas.addEventListener(\n",
       "        'mouseleave',\n",
       "        on_mouse_event_closure('figure_leave')\n",
       "    );\n",
       "\n",
       "    canvas_div.addEventListener('wheel', function (event) {\n",
       "        if (event.deltaY < 0) {\n",
       "            event.step = 1;\n",
       "        } else {\n",
       "            event.step = -1;\n",
       "        }\n",
       "        on_mouse_event_closure('scroll')(event);\n",
       "    });\n",
       "\n",
       "    canvas_div.appendChild(canvas);\n",
       "    canvas_div.appendChild(rubberband_canvas);\n",
       "\n",
       "    this.rubberband_context = rubberband_canvas.getContext('2d');\n",
       "    this.rubberband_context.strokeStyle = '#000000';\n",
       "\n",
       "    this._resize_canvas = function (width, height, forward) {\n",
       "        if (forward) {\n",
       "            canvas_div.style.width = width + 'px';\n",
       "            canvas_div.style.height = height + 'px';\n",
       "        }\n",
       "    };\n",
       "\n",
       "    // Disable right mouse context menu.\n",
       "    this.rubberband_canvas.addEventListener('contextmenu', function (_e) {\n",
       "        event.preventDefault();\n",
       "        return false;\n",
       "    });\n",
       "\n",
       "    function set_focus() {\n",
       "        canvas.focus();\n",
       "        canvas_div.focus();\n",
       "    }\n",
       "\n",
       "    window.setTimeout(set_focus, 100);\n",
       "};\n",
       "\n",
       "mpl.figure.prototype._init_toolbar = function () {\n",
       "    var fig = this;\n",
       "\n",
       "    var toolbar = document.createElement('div');\n",
       "    toolbar.classList = 'mpl-toolbar';\n",
       "    this.root.appendChild(toolbar);\n",
       "\n",
       "    function on_click_closure(name) {\n",
       "        return function (_event) {\n",
       "            return fig.toolbar_button_onclick(name);\n",
       "        };\n",
       "    }\n",
       "\n",
       "    function on_mouseover_closure(tooltip) {\n",
       "        return function (event) {\n",
       "            if (!event.currentTarget.disabled) {\n",
       "                return fig.toolbar_button_onmouseover(tooltip);\n",
       "            }\n",
       "        };\n",
       "    }\n",
       "\n",
       "    fig.buttons = {};\n",
       "    var buttonGroup = document.createElement('div');\n",
       "    buttonGroup.classList = 'mpl-button-group';\n",
       "    for (var toolbar_ind in mpl.toolbar_items) {\n",
       "        var name = mpl.toolbar_items[toolbar_ind][0];\n",
       "        var tooltip = mpl.toolbar_items[toolbar_ind][1];\n",
       "        var image = mpl.toolbar_items[toolbar_ind][2];\n",
       "        var method_name = mpl.toolbar_items[toolbar_ind][3];\n",
       "\n",
       "        if (!name) {\n",
       "            /* Instead of a spacer, we start a new button group. */\n",
       "            if (buttonGroup.hasChildNodes()) {\n",
       "                toolbar.appendChild(buttonGroup);\n",
       "            }\n",
       "            buttonGroup = document.createElement('div');\n",
       "            buttonGroup.classList = 'mpl-button-group';\n",
       "            continue;\n",
       "        }\n",
       "\n",
       "        var button = (fig.buttons[name] = document.createElement('button'));\n",
       "        button.classList = 'mpl-widget';\n",
       "        button.setAttribute('role', 'button');\n",
       "        button.setAttribute('aria-disabled', 'false');\n",
       "        button.addEventListener('click', on_click_closure(method_name));\n",
       "        button.addEventListener('mouseover', on_mouseover_closure(tooltip));\n",
       "\n",
       "        var icon_img = document.createElement('img');\n",
       "        icon_img.src = '_images/' + image + '.png';\n",
       "        icon_img.srcset = '_images/' + image + '_large.png 2x';\n",
       "        icon_img.alt = tooltip;\n",
       "        button.appendChild(icon_img);\n",
       "\n",
       "        buttonGroup.appendChild(button);\n",
       "    }\n",
       "\n",
       "    if (buttonGroup.hasChildNodes()) {\n",
       "        toolbar.appendChild(buttonGroup);\n",
       "    }\n",
       "\n",
       "    var fmt_picker = document.createElement('select');\n",
       "    fmt_picker.classList = 'mpl-widget';\n",
       "    toolbar.appendChild(fmt_picker);\n",
       "    this.format_dropdown = fmt_picker;\n",
       "\n",
       "    for (var ind in mpl.extensions) {\n",
       "        var fmt = mpl.extensions[ind];\n",
       "        var option = document.createElement('option');\n",
       "        option.selected = fmt === mpl.default_extension;\n",
       "        option.innerHTML = fmt;\n",
       "        fmt_picker.appendChild(option);\n",
       "    }\n",
       "\n",
       "    var status_bar = document.createElement('span');\n",
       "    status_bar.classList = 'mpl-message';\n",
       "    toolbar.appendChild(status_bar);\n",
       "    this.message = status_bar;\n",
       "};\n",
       "\n",
       "mpl.figure.prototype.request_resize = function (x_pixels, y_pixels) {\n",
       "    // Request matplotlib to resize the figure. Matplotlib will then trigger a resize in the client,\n",
       "    // which will in turn request a refresh of the image.\n",
       "    this.send_message('resize', { width: x_pixels, height: y_pixels });\n",
       "};\n",
       "\n",
       "mpl.figure.prototype.send_message = function (type, properties) {\n",
       "    properties['type'] = type;\n",
       "    properties['figure_id'] = this.id;\n",
       "    this.ws.send(JSON.stringify(properties));\n",
       "};\n",
       "\n",
       "mpl.figure.prototype.send_draw_message = function () {\n",
       "    if (!this.waiting) {\n",
       "        this.waiting = true;\n",
       "        this.ws.send(JSON.stringify({ type: 'draw', figure_id: this.id }));\n",
       "    }\n",
       "};\n",
       "\n",
       "mpl.figure.prototype.handle_save = function (fig, _msg) {\n",
       "    var format_dropdown = fig.format_dropdown;\n",
       "    var format = format_dropdown.options[format_dropdown.selectedIndex].value;\n",
       "    fig.ondownload(fig, format);\n",
       "};\n",
       "\n",
       "mpl.figure.prototype.handle_resize = function (fig, msg) {\n",
       "    var size = msg['size'];\n",
       "    if (size[0] !== fig.canvas.width || size[1] !== fig.canvas.height) {\n",
       "        fig._resize_canvas(size[0], size[1], msg['forward']);\n",
       "        fig.send_message('refresh', {});\n",
       "    }\n",
       "};\n",
       "\n",
       "mpl.figure.prototype.handle_rubberband = function (fig, msg) {\n",
       "    var x0 = msg['x0'] / fig.ratio;\n",
       "    var y0 = (fig.canvas.height - msg['y0']) / fig.ratio;\n",
       "    var x1 = msg['x1'] / fig.ratio;\n",
       "    var y1 = (fig.canvas.height - msg['y1']) / fig.ratio;\n",
       "    x0 = Math.floor(x0) + 0.5;\n",
       "    y0 = Math.floor(y0) + 0.5;\n",
       "    x1 = Math.floor(x1) + 0.5;\n",
       "    y1 = Math.floor(y1) + 0.5;\n",
       "    var min_x = Math.min(x0, x1);\n",
       "    var min_y = Math.min(y0, y1);\n",
       "    var width = Math.abs(x1 - x0);\n",
       "    var height = Math.abs(y1 - y0);\n",
       "\n",
       "    fig.rubberband_context.clearRect(\n",
       "        0,\n",
       "        0,\n",
       "        fig.canvas.width / fig.ratio,\n",
       "        fig.canvas.height / fig.ratio\n",
       "    );\n",
       "\n",
       "    fig.rubberband_context.strokeRect(min_x, min_y, width, height);\n",
       "};\n",
       "\n",
       "mpl.figure.prototype.handle_figure_label = function (fig, msg) {\n",
       "    // Updates the figure title.\n",
       "    fig.header.textContent = msg['label'];\n",
       "};\n",
       "\n",
       "mpl.figure.prototype.handle_cursor = function (fig, msg) {\n",
       "    var cursor = msg['cursor'];\n",
       "    switch (cursor) {\n",
       "        case 0:\n",
       "            cursor = 'pointer';\n",
       "            break;\n",
       "        case 1:\n",
       "            cursor = 'default';\n",
       "            break;\n",
       "        case 2:\n",
       "            cursor = 'crosshair';\n",
       "            break;\n",
       "        case 3:\n",
       "            cursor = 'move';\n",
       "            break;\n",
       "    }\n",
       "    fig.rubberband_canvas.style.cursor = cursor;\n",
       "};\n",
       "\n",
       "mpl.figure.prototype.handle_message = function (fig, msg) {\n",
       "    fig.message.textContent = msg['message'];\n",
       "};\n",
       "\n",
       "mpl.figure.prototype.handle_draw = function (fig, _msg) {\n",
       "    // Request the server to send over a new figure.\n",
       "    fig.send_draw_message();\n",
       "};\n",
       "\n",
       "mpl.figure.prototype.handle_image_mode = function (fig, msg) {\n",
       "    fig.image_mode = msg['mode'];\n",
       "};\n",
       "\n",
       "mpl.figure.prototype.handle_history_buttons = function (fig, msg) {\n",
       "    for (var key in msg) {\n",
       "        if (!(key in fig.buttons)) {\n",
       "            continue;\n",
       "        }\n",
       "        fig.buttons[key].disabled = !msg[key];\n",
       "        fig.buttons[key].setAttribute('aria-disabled', !msg[key]);\n",
       "    }\n",
       "};\n",
       "\n",
       "mpl.figure.prototype.handle_navigate_mode = function (fig, msg) {\n",
       "    if (msg['mode'] === 'PAN') {\n",
       "        fig.buttons['Pan'].classList.add('active');\n",
       "        fig.buttons['Zoom'].classList.remove('active');\n",
       "    } else if (msg['mode'] === 'ZOOM') {\n",
       "        fig.buttons['Pan'].classList.remove('active');\n",
       "        fig.buttons['Zoom'].classList.add('active');\n",
       "    } else {\n",
       "        fig.buttons['Pan'].classList.remove('active');\n",
       "        fig.buttons['Zoom'].classList.remove('active');\n",
       "    }\n",
       "};\n",
       "\n",
       "mpl.figure.prototype.updated_canvas_event = function () {\n",
       "    // Called whenever the canvas gets updated.\n",
       "    this.send_message('ack', {});\n",
       "};\n",
       "\n",
       "// A function to construct a web socket function for onmessage handling.\n",
       "// Called in the figure constructor.\n",
       "mpl.figure.prototype._make_on_message_function = function (fig) {\n",
       "    return function socket_on_message(evt) {\n",
       "        if (evt.data instanceof Blob) {\n",
       "            /* FIXME: We get \"Resource interpreted as Image but\n",
       "             * transferred with MIME type text/plain:\" errors on\n",
       "             * Chrome.  But how to set the MIME type?  It doesn't seem\n",
       "             * to be part of the websocket stream */\n",
       "            evt.data.type = 'image/png';\n",
       "\n",
       "            /* Free the memory for the previous frames */\n",
       "            if (fig.imageObj.src) {\n",
       "                (window.URL || window.webkitURL).revokeObjectURL(\n",
       "                    fig.imageObj.src\n",
       "                );\n",
       "            }\n",
       "\n",
       "            fig.imageObj.src = (window.URL || window.webkitURL).createObjectURL(\n",
       "                evt.data\n",
       "            );\n",
       "            fig.updated_canvas_event();\n",
       "            fig.waiting = false;\n",
       "            return;\n",
       "        } else if (\n",
       "            typeof evt.data === 'string' &&\n",
       "            evt.data.slice(0, 21) === 'data:image/png;base64'\n",
       "        ) {\n",
       "            fig.imageObj.src = evt.data;\n",
       "            fig.updated_canvas_event();\n",
       "            fig.waiting = false;\n",
       "            return;\n",
       "        }\n",
       "\n",
       "        var msg = JSON.parse(evt.data);\n",
       "        var msg_type = msg['type'];\n",
       "\n",
       "        // Call the  \"handle_{type}\" callback, which takes\n",
       "        // the figure and JSON message as its only arguments.\n",
       "        try {\n",
       "            var callback = fig['handle_' + msg_type];\n",
       "        } catch (e) {\n",
       "            console.log(\n",
       "                \"No handler for the '\" + msg_type + \"' message type: \",\n",
       "                msg\n",
       "            );\n",
       "            return;\n",
       "        }\n",
       "\n",
       "        if (callback) {\n",
       "            try {\n",
       "                // console.log(\"Handling '\" + msg_type + \"' message: \", msg);\n",
       "                callback(fig, msg);\n",
       "            } catch (e) {\n",
       "                console.log(\n",
       "                    \"Exception inside the 'handler_\" + msg_type + \"' callback:\",\n",
       "                    e,\n",
       "                    e.stack,\n",
       "                    msg\n",
       "                );\n",
       "            }\n",
       "        }\n",
       "    };\n",
       "};\n",
       "\n",
       "// from http://stackoverflow.com/questions/1114465/getting-mouse-location-in-canvas\n",
       "mpl.findpos = function (e) {\n",
       "    //this section is from http://www.quirksmode.org/js/events_properties.html\n",
       "    var targ;\n",
       "    if (!e) {\n",
       "        e = window.event;\n",
       "    }\n",
       "    if (e.target) {\n",
       "        targ = e.target;\n",
       "    } else if (e.srcElement) {\n",
       "        targ = e.srcElement;\n",
       "    }\n",
       "    if (targ.nodeType === 3) {\n",
       "        // defeat Safari bug\n",
       "        targ = targ.parentNode;\n",
       "    }\n",
       "\n",
       "    // pageX,Y are the mouse positions relative to the document\n",
       "    var boundingRect = targ.getBoundingClientRect();\n",
       "    var x = e.pageX - (boundingRect.left + document.body.scrollLeft);\n",
       "    var y = e.pageY - (boundingRect.top + document.body.scrollTop);\n",
       "\n",
       "    return { x: x, y: y };\n",
       "};\n",
       "\n",
       "/*\n",
       " * return a copy of an object with only non-object keys\n",
       " * we need this to avoid circular references\n",
       " * http://stackoverflow.com/a/24161582/3208463\n",
       " */\n",
       "function simpleKeys(original) {\n",
       "    return Object.keys(original).reduce(function (obj, key) {\n",
       "        if (typeof original[key] !== 'object') {\n",
       "            obj[key] = original[key];\n",
       "        }\n",
       "        return obj;\n",
       "    }, {});\n",
       "}\n",
       "\n",
       "mpl.figure.prototype.mouse_event = function (event, name) {\n",
       "    var canvas_pos = mpl.findpos(event);\n",
       "\n",
       "    if (name === 'button_press') {\n",
       "        this.canvas.focus();\n",
       "        this.canvas_div.focus();\n",
       "    }\n",
       "\n",
       "    var x = canvas_pos.x * this.ratio;\n",
       "    var y = canvas_pos.y * this.ratio;\n",
       "\n",
       "    this.send_message(name, {\n",
       "        x: x,\n",
       "        y: y,\n",
       "        button: event.button,\n",
       "        step: event.step,\n",
       "        guiEvent: simpleKeys(event),\n",
       "    });\n",
       "\n",
       "    /* This prevents the web browser from automatically changing to\n",
       "     * the text insertion cursor when the button is pressed.  We want\n",
       "     * to control all of the cursor setting manually through the\n",
       "     * 'cursor' event from matplotlib */\n",
       "    event.preventDefault();\n",
       "    return false;\n",
       "};\n",
       "\n",
       "mpl.figure.prototype._key_event_extra = function (_event, _name) {\n",
       "    // Handle any extra behaviour associated with a key event\n",
       "};\n",
       "\n",
       "mpl.figure.prototype.key_event = function (event, name) {\n",
       "    // Prevent repeat events\n",
       "    if (name === 'key_press') {\n",
       "        if (event.which === this._key) {\n",
       "            return;\n",
       "        } else {\n",
       "            this._key = event.which;\n",
       "        }\n",
       "    }\n",
       "    if (name === 'key_release') {\n",
       "        this._key = null;\n",
       "    }\n",
       "\n",
       "    var value = '';\n",
       "    if (event.ctrlKey && event.which !== 17) {\n",
       "        value += 'ctrl+';\n",
       "    }\n",
       "    if (event.altKey && event.which !== 18) {\n",
       "        value += 'alt+';\n",
       "    }\n",
       "    if (event.shiftKey && event.which !== 16) {\n",
       "        value += 'shift+';\n",
       "    }\n",
       "\n",
       "    value += 'k';\n",
       "    value += event.which.toString();\n",
       "\n",
       "    this._key_event_extra(event, name);\n",
       "\n",
       "    this.send_message(name, { key: value, guiEvent: simpleKeys(event) });\n",
       "    return false;\n",
       "};\n",
       "\n",
       "mpl.figure.prototype.toolbar_button_onclick = function (name) {\n",
       "    if (name === 'download') {\n",
       "        this.handle_save(this, null);\n",
       "    } else {\n",
       "        this.send_message('toolbar_button', { name: name });\n",
       "    }\n",
       "};\n",
       "\n",
       "mpl.figure.prototype.toolbar_button_onmouseover = function (tooltip) {\n",
       "    this.message.textContent = tooltip;\n",
       "};\n",
       "mpl.toolbar_items = [[\"Home\", \"Reset original view\", \"fa fa-home icon-home\", \"home\"], [\"Back\", \"Back to previous view\", \"fa fa-arrow-left icon-arrow-left\", \"back\"], [\"Forward\", \"Forward to next view\", \"fa fa-arrow-right icon-arrow-right\", \"forward\"], [\"\", \"\", \"\", \"\"], [\"Pan\", \"Left button pans, Right button zooms\\nx/y fixes axis, CTRL fixes aspect\", \"fa fa-arrows icon-move\", \"pan\"], [\"Zoom\", \"Zoom to rectangle\\nx/y fixes axis, CTRL fixes aspect\", \"fa fa-square-o icon-check-empty\", \"zoom\"], [\"\", \"\", \"\", \"\"], [\"Download\", \"Download plot\", \"fa fa-floppy-o icon-save\", \"download\"]];\n",
       "\n",
       "mpl.extensions = [\"eps\", \"jpeg\", \"pdf\", \"png\", \"ps\", \"raw\", \"svg\", \"tif\"];\n",
       "\n",
       "mpl.default_extension = \"png\";/* global mpl */\n",
       "\n",
       "var comm_websocket_adapter = function (comm) {\n",
       "    // Create a \"websocket\"-like object which calls the given IPython comm\n",
       "    // object with the appropriate methods. Currently this is a non binary\n",
       "    // socket, so there is still some room for performance tuning.\n",
       "    var ws = {};\n",
       "\n",
       "    ws.close = function () {\n",
       "        comm.close();\n",
       "    };\n",
       "    ws.send = function (m) {\n",
       "        //console.log('sending', m);\n",
       "        comm.send(m);\n",
       "    };\n",
       "    // Register the callback with on_msg.\n",
       "    comm.on_msg(function (msg) {\n",
       "        //console.log('receiving', msg['content']['data'], msg);\n",
       "        // Pass the mpl event to the overridden (by mpl) onmessage function.\n",
       "        ws.onmessage(msg['content']['data']);\n",
       "    });\n",
       "    return ws;\n",
       "};\n",
       "\n",
       "mpl.mpl_figure_comm = function (comm, msg) {\n",
       "    // This is the function which gets called when the mpl process\n",
       "    // starts-up an IPython Comm through the \"matplotlib\" channel.\n",
       "\n",
       "    var id = msg.content.data.id;\n",
       "    // Get hold of the div created by the display call when the Comm\n",
       "    // socket was opened in Python.\n",
       "    var element = document.getElementById(id);\n",
       "    var ws_proxy = comm_websocket_adapter(comm);\n",
       "\n",
       "    function ondownload(figure, _format) {\n",
       "        window.open(figure.canvas.toDataURL());\n",
       "    }\n",
       "\n",
       "    var fig = new mpl.figure(id, ws_proxy, ondownload, element);\n",
       "\n",
       "    // Call onopen now - mpl needs it, as it is assuming we've passed it a real\n",
       "    // web socket which is closed, not our websocket->open comm proxy.\n",
       "    ws_proxy.onopen();\n",
       "\n",
       "    fig.parent_element = element;\n",
       "    fig.cell_info = mpl.find_output_cell(\"<div id='\" + id + \"'></div>\");\n",
       "    if (!fig.cell_info) {\n",
       "        console.error('Failed to find cell for figure', id, fig);\n",
       "        return;\n",
       "    }\n",
       "    fig.cell_info[0].output_area.element.one(\n",
       "        'cleared',\n",
       "        { fig: fig },\n",
       "        fig._remove_fig_handler\n",
       "    );\n",
       "};\n",
       "\n",
       "mpl.figure.prototype.handle_close = function (fig, msg) {\n",
       "    var width = fig.canvas.width / fig.ratio;\n",
       "    fig.cell_info[0].output_area.element.off(\n",
       "        'cleared',\n",
       "        fig._remove_fig_handler\n",
       "    );\n",
       "\n",
       "    // Update the output cell to use the data from the current canvas.\n",
       "    fig.push_to_output();\n",
       "    var dataURL = fig.canvas.toDataURL();\n",
       "    // Re-enable the keyboard manager in IPython - without this line, in FF,\n",
       "    // the notebook keyboard shortcuts fail.\n",
       "    IPython.keyboard_manager.enable();\n",
       "    fig.parent_element.innerHTML =\n",
       "        '<img src=\"' + dataURL + '\" width=\"' + width + '\">';\n",
       "    fig.close_ws(fig, msg);\n",
       "};\n",
       "\n",
       "mpl.figure.prototype.close_ws = function (fig, msg) {\n",
       "    fig.send_message('closing', msg);\n",
       "    // fig.ws.close()\n",
       "};\n",
       "\n",
       "mpl.figure.prototype.push_to_output = function (_remove_interactive) {\n",
       "    // Turn the data on the canvas into data in the output cell.\n",
       "    var width = this.canvas.width / this.ratio;\n",
       "    var dataURL = this.canvas.toDataURL();\n",
       "    this.cell_info[1]['text/html'] =\n",
       "        '<img src=\"' + dataURL + '\" width=\"' + width + '\">';\n",
       "};\n",
       "\n",
       "mpl.figure.prototype.updated_canvas_event = function () {\n",
       "    // Tell IPython that the notebook contents must change.\n",
       "    IPython.notebook.set_dirty(true);\n",
       "    this.send_message('ack', {});\n",
       "    var fig = this;\n",
       "    // Wait a second, then push the new image to the DOM so\n",
       "    // that it is saved nicely (might be nice to debounce this).\n",
       "    setTimeout(function () {\n",
       "        fig.push_to_output();\n",
       "    }, 1000);\n",
       "};\n",
       "\n",
       "mpl.figure.prototype._init_toolbar = function () {\n",
       "    var fig = this;\n",
       "\n",
       "    var toolbar = document.createElement('div');\n",
       "    toolbar.classList = 'btn-toolbar';\n",
       "    this.root.appendChild(toolbar);\n",
       "\n",
       "    function on_click_closure(name) {\n",
       "        return function (_event) {\n",
       "            return fig.toolbar_button_onclick(name);\n",
       "        };\n",
       "    }\n",
       "\n",
       "    function on_mouseover_closure(tooltip) {\n",
       "        return function (event) {\n",
       "            if (!event.currentTarget.disabled) {\n",
       "                return fig.toolbar_button_onmouseover(tooltip);\n",
       "            }\n",
       "        };\n",
       "    }\n",
       "\n",
       "    fig.buttons = {};\n",
       "    var buttonGroup = document.createElement('div');\n",
       "    buttonGroup.classList = 'btn-group';\n",
       "    var button;\n",
       "    for (var toolbar_ind in mpl.toolbar_items) {\n",
       "        var name = mpl.toolbar_items[toolbar_ind][0];\n",
       "        var tooltip = mpl.toolbar_items[toolbar_ind][1];\n",
       "        var image = mpl.toolbar_items[toolbar_ind][2];\n",
       "        var method_name = mpl.toolbar_items[toolbar_ind][3];\n",
       "\n",
       "        if (!name) {\n",
       "            /* Instead of a spacer, we start a new button group. */\n",
       "            if (buttonGroup.hasChildNodes()) {\n",
       "                toolbar.appendChild(buttonGroup);\n",
       "            }\n",
       "            buttonGroup = document.createElement('div');\n",
       "            buttonGroup.classList = 'btn-group';\n",
       "            continue;\n",
       "        }\n",
       "\n",
       "        button = fig.buttons[name] = document.createElement('button');\n",
       "        button.classList = 'btn btn-default';\n",
       "        button.href = '#';\n",
       "        button.title = name;\n",
       "        button.innerHTML = '<i class=\"fa ' + image + ' fa-lg\"></i>';\n",
       "        button.addEventListener('click', on_click_closure(method_name));\n",
       "        button.addEventListener('mouseover', on_mouseover_closure(tooltip));\n",
       "        buttonGroup.appendChild(button);\n",
       "    }\n",
       "\n",
       "    if (buttonGroup.hasChildNodes()) {\n",
       "        toolbar.appendChild(buttonGroup);\n",
       "    }\n",
       "\n",
       "    // Add the status bar.\n",
       "    var status_bar = document.createElement('span');\n",
       "    status_bar.classList = 'mpl-message pull-right';\n",
       "    toolbar.appendChild(status_bar);\n",
       "    this.message = status_bar;\n",
       "\n",
       "    // Add the close button to the window.\n",
       "    var buttongrp = document.createElement('div');\n",
       "    buttongrp.classList = 'btn-group inline pull-right';\n",
       "    button = document.createElement('button');\n",
       "    button.classList = 'btn btn-mini btn-primary';\n",
       "    button.href = '#';\n",
       "    button.title = 'Stop Interaction';\n",
       "    button.innerHTML = '<i class=\"fa fa-power-off icon-remove icon-large\"></i>';\n",
       "    button.addEventListener('click', function (_evt) {\n",
       "        fig.handle_close(fig, {});\n",
       "    });\n",
       "    button.addEventListener(\n",
       "        'mouseover',\n",
       "        on_mouseover_closure('Stop Interaction')\n",
       "    );\n",
       "    buttongrp.appendChild(button);\n",
       "    var titlebar = this.root.querySelector('.ui-dialog-titlebar');\n",
       "    titlebar.insertBefore(buttongrp, titlebar.firstChild);\n",
       "};\n",
       "\n",
       "mpl.figure.prototype._remove_fig_handler = function (event) {\n",
       "    var fig = event.data.fig;\n",
       "    fig.close_ws(fig, {});\n",
       "};\n",
       "\n",
       "mpl.figure.prototype._root_extra_style = function (el) {\n",
       "    el.style.boxSizing = 'content-box'; // override notebook setting of border-box.\n",
       "};\n",
       "\n",
       "mpl.figure.prototype._canvas_extra_style = function (el) {\n",
       "    // this is important to make the div 'focusable\n",
       "    el.setAttribute('tabindex', 0);\n",
       "    // reach out to IPython and tell the keyboard manager to turn it's self\n",
       "    // off when our div gets focus\n",
       "\n",
       "    // location in version 3\n",
       "    if (IPython.notebook.keyboard_manager) {\n",
       "        IPython.notebook.keyboard_manager.register_events(el);\n",
       "    } else {\n",
       "        // location in version 2\n",
       "        IPython.keyboard_manager.register_events(el);\n",
       "    }\n",
       "};\n",
       "\n",
       "mpl.figure.prototype._key_event_extra = function (event, _name) {\n",
       "    var manager = IPython.notebook.keyboard_manager;\n",
       "    if (!manager) {\n",
       "        manager = IPython.keyboard_manager;\n",
       "    }\n",
       "\n",
       "    // Check for shift+enter\n",
       "    if (event.shiftKey && event.which === 13) {\n",
       "        this.canvas_div.blur();\n",
       "        // select the cell after this one\n",
       "        var index = IPython.notebook.find_cell_index(this.cell_info[0]);\n",
       "        IPython.notebook.select(index + 1);\n",
       "    }\n",
       "};\n",
       "\n",
       "mpl.figure.prototype.handle_save = function (fig, _msg) {\n",
       "    fig.ondownload(fig, null);\n",
       "};\n",
       "\n",
       "mpl.find_output_cell = function (html_output) {\n",
       "    // Return the cell and output element which can be found *uniquely* in the notebook.\n",
       "    // Note - this is a bit hacky, but it is done because the \"notebook_saving.Notebook\"\n",
       "    // IPython event is triggered only after the cells have been serialised, which for\n",
       "    // our purposes (turning an active figure into a static one), is too late.\n",
       "    var cells = IPython.notebook.get_cells();\n",
       "    var ncells = cells.length;\n",
       "    for (var i = 0; i < ncells; i++) {\n",
       "        var cell = cells[i];\n",
       "        if (cell.cell_type === 'code') {\n",
       "            for (var j = 0; j < cell.output_area.outputs.length; j++) {\n",
       "                var data = cell.output_area.outputs[j];\n",
       "                if (data.data) {\n",
       "                    // IPython >= 3 moved mimebundle to data attribute of output\n",
       "                    data = data.data;\n",
       "                }\n",
       "                if (data['text/html'] === html_output) {\n",
       "                    return [cell, data, j];\n",
       "                }\n",
       "            }\n",
       "        }\n",
       "    }\n",
       "};\n",
       "\n",
       "// Register the function which deals with the matplotlib target/channel.\n",
       "// The kernel may be null if the page has been refreshed.\n",
       "if (IPython.notebook.kernel !== null) {\n",
       "    IPython.notebook.kernel.comm_manager.register_target(\n",
       "        'matplotlib',\n",
       "        mpl.mpl_figure_comm\n",
       "    );\n",
       "}\n"
      ],
      "text/plain": [
       "<IPython.core.display.Javascript object>"
      ]
     },
     "metadata": {},
     "output_type": "display_data"
    },
    {
     "data": {
      "text/html": [
       "<img src=\"data:image/png;base64,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\" width=\"899.8000000000001\">"
      ],
      "text/plain": [
       "<IPython.core.display.HTML object>"
      ]
     },
     "metadata": {},
     "output_type": "display_data"
    }
   ],
   "source": [
    "#--- Pour le problème de version en attendant de trouver une solution ----------\n",
    "#sns.distributions._has_statsmodels = False\n",
    "############# numeric variables\n",
    "variables = numeric_features.copy()\n",
    "variables.append(\"bool_parking\")\n",
    "df = data2.filter(variables)\n",
    "df = pd.melt(df, df.columns[-1], df.columns[:-1])\n",
    "g = sns.FacetGrid(df, col=\"variable\", hue=\"bool_parking\",\n",
    "                  col_wrap=3,sharex=False, sharey=False,legend_out=False)\n",
    "g.map(sns.kdeplot, \"value\") #, shade=True\n",
    "#g.add_legend()"
   ]
  },
  {
   "cell_type": "markdown",
   "metadata": {},
   "source": [
    "###  First model : simple logistic regression \n"
   ]
  },
  {
   "cell_type": "code",
   "execution_count": 25,
   "metadata": {},
   "outputs": [
    {
     "name": "stdout",
     "output_type": "stream",
     "text": [
      "Results for logreg\n",
      "Returned hyperparameter: {'logreg__C': 0.5}\n",
      "Best classification accuracy in train is: 0.9376940427539336\n",
      "Classification accuracy on test is: 0.9384548378450818\n"
     ]
    }
   ],
   "source": [
    "models = [(\"logreg\", LogisticRegression(max_iter=700))]\n",
    "grids = {\"logreg\" : {'logreg__C': np.logspace(-2, 2, 5, base=2)}}\n",
    "for name, model in models:\n",
    "    pipe = Pipeline(steps=[('preprocessor', preproc), (name, model)])\n",
    "    clf = GridSearchCV(pipe, grids[name], cv=3)\n",
    "    clf.fit(X_train, y_train)\n",
    "    print('Results for {}'.format(name))\n",
    "    #print(clf.cv_results_)\n",
    "    print('Returned hyperparameter: {}'.format(clf.best_params_))\n",
    "    print('Best classification accuracy in train is: {}'.format(clf.best_score_))\n",
    "    print('Classification accuracy on test is: {}'.format(clf.score(X_test, y_test)))"
   ]
  },
  {
   "cell_type": "code",
   "execution_count": 27,
   "metadata": {},
   "outputs": [
    {
     "name": "stdout",
     "output_type": "stream",
     "text": [
      "MSE:  0.2484877877253119\n",
      "R2:  -0.06580967684342087\n",
      "accuracy :  0.9382538193513803\n"
     ]
    }
   ],
   "source": [
    "#logregr = LogisticRegression(max_iter=500, C=0.25) #best parameter C=0.25\n",
    "logregr = LogisticRegression(max_iter=500, C=0.5) #best parameter C=0.25\n",
    "logregr.fit(X_train_preproc,y_train)\n",
    "y_pred = logregr.predict(X_test_preproc)\n",
    "\n",
    "from sklearn.metrics import accuracy_score\n",
    "from sklearn.metrics import mean_squared_error\n",
    "from sklearn.metrics import r2_score\n",
    "print(\"MSE: \", mean_squared_error(y_test, y_pred, squared=False))\n",
    "print(\"R2: \", r2_score(y_test, y_pred))\n",
    "print(\"accuracy : \", accuracy_score(y_test, y_pred)) #OK because for logistic regression Y_pred is binary"
   ]
  },
  {
   "cell_type": "markdown",
   "metadata": {},
   "source": [
    "###  Second model : regularized regression \n",
    "\n",
    "We try to improve the previous logistic regression using a polynomial regression with a regularization called LASSO. To only choose the features which best predict the outcome. Indeed, subsetting the feature may prevent from overfitting. LASSO regression is such as:\n",
    "\n",
    "$$\\hat f = \\underset{f \\in \\mathcal F_n^\\text{poly}}{argmin} \\{ \\frac{1}{2m} \\sum_{i=1}^m (Y_i - f(X_i))^2 + \\alpha \\sum_{k=1}^n | a_k | \\} $$\n",
    "\n",
    "where $\\alpha$ > 0 is a paremeter to choose."
   ]
  },
  {
   "cell_type": "code",
   "execution_count": 28,
   "metadata": {},
   "outputs": [
    {
     "name": "stdout",
     "output_type": "stream",
     "text": [
      "{'alpha': 1.0,\n",
      " 'copy_X': True,\n",
      " 'fit_intercept': True,\n",
      " 'max_iter': 1000,\n",
      " 'normalize': False,\n",
      " 'positive': False,\n",
      " 'precompute': False,\n",
      " 'random_state': None,\n",
      " 'selection': 'cyclic',\n",
      " 'tol': 0.0001,\n",
      " 'warm_start': False}\n"
     ]
    }
   ],
   "source": [
    "from sklearn.preprocessing import PolynomialFeatures\n",
    "from sklearn.linear_model import Lasso\n",
    "from pprint import pprint# Look at parameters used by lasso\n",
    "lasso = Lasso()\n",
    "# print parameters available for lasso. The main is alpha\n",
    "pprint(lasso.get_params())"
   ]
  },
  {
   "cell_type": "markdown",
   "metadata": {},
   "source": [
    "Lasso path:\n",
    "\n",
    "<mark> @Kim Penser plus tard à expliquer ce qu'est le lasso path</mark>"
   ]
  },
  {
   "cell_type": "code",
   "execution_count": 29,
   "metadata": {},
   "outputs": [
    {
     "data": {
      "text/plain": [
       "<Figure size 216x216 with 0 Axes>"
      ]
     },
     "metadata": {},
     "output_type": "display_data"
    },
    {
     "data": {
      "image/png": "[encoded data removed]",
      "text/plain": [
       "<Figure size 432x288 with 1 Axes>"
      ]
     },
     "metadata": {
      "needs_background": "light"
     },
     "output_type": "display_data"
    }
   ],
   "source": [
    "#lasso path \n",
    "from sklearn.linear_model import lasso_path\n",
    "my_alphas = np.array([0.001,0.01,0.02,0.025,0.05,0.1,0.25,0.5,0.8,1.0])\n",
    "alpha_for_path, coefs_lasso, _ = lasso_path(X_train_preproc,y,alphas=my_alphas)\n",
    "nb_coeff = coefs_lasso.shape[0] #244\n",
    "nb_alpha = coefs_lasso.shape[1]\n",
    "import matplotlib.cm as cm\n",
    "couleurs = cm.rainbow(np.linspace(0,1,nb_coeff))\n",
    "\n",
    "#lasso path plot(one curve per variable)\n",
    "plt.figure(figsize=(3, 3))\n",
    "fig, ax1 = plt.subplots()\n",
    "for i in range(nb_coeff):\n",
    "    #plt.plot(alpha_for_path,coefs_lasso[i,:],c=couleurs[i])\n",
    "    ax1.plot(alpha_for_path,coefs_lasso[i,:],c=couleurs[i])\n",
    "plt.xlabel('Alpha')\n",
    "plt.xlim(0,0.1)\n",
    "plt.ylabel('Coefficients')\n",
    "plt.title('Lasso path')\n",
    "plt.show()"
   ]
  },
  {
   "cell_type": "code",
   "execution_count": 30,
   "metadata": {},
   "outputs": [
    {
     "data": {
      "image/png": "[encoded data removed]",
      "text/plain": [
       "<Figure size 288x144 with 1 Axes>"
      ]
     },
     "metadata": {
      "needs_background": "light"
     },
     "output_type": "display_data"
    }
   ],
   "source": [
    "#number of non-zero coefficient(s) for each alpha\n",
    "nbNonZero = np.apply_along_axis(func1d=np.count_nonzero,arr=coefs_lasso,axis=0)\n",
    "plt.figure(figsize=(4, 2))\n",
    "plt.plot(alpha_for_path,nbNonZero)\n",
    "plt.xlabel('Alpha')\n",
    "plt.ylabel('Nb. de variables')\n",
    "plt.title('Nb. variables vs. Alpha')\n",
    "plt.show()"
   ]
  },
  {
   "cell_type": "markdown",
   "metadata": {},
   "source": [
    "<mark> fonction ci-dessous à debugger </mark>"
   ]
  },
  {
   "cell_type": "code",
   "execution_count": 31,
   "metadata": {},
   "outputs": [
    {
     "data": {
      "text/plain": [
       "243"
      ]
     },
     "execution_count": 31,
     "metadata": {},
     "output_type": "execute_result"
    }
   ],
   "source": [
    "#function to create labels for one-hot vectors\n",
    "# inspiration : https://stackoverflow.com/questions/41987743/merge-two-multiindex-levels-into-one-in-pandas\n",
    "def labels_one_hot(data, categorical, numeric):\n",
    "    uniq_vals = data[categorical].apply(lambda x: x.value_counts()).unstack()\n",
    "    uniq_vals = uniq_vals[~uniq_vals.isnull()]\n",
    "    enc_cols = list(uniq_vals.index.map('{0[0]}_{0[1]}'.format)) \n",
    "    cols = numeric + enc_cols\n",
    "    return(cols)\n",
    "len(labels_one_hot(X,categorical_features,numeric_features))\n",
    "#Problème dans cette fonction, il devrait y avoir 244 labels, il en manque 1 ! \n",
    "#Il doit y avoir un cas particulier traité bizarrement\n"
   ]
  },
  {
   "cell_type": "code",
   "execution_count": 22,
   "metadata": {},
   "outputs": [
    {
     "data": {
      "text/html": [
       "<div>\n",
       "<style scoped>\n",
       "    .dataframe tbody tr th:only-of-type {\n",
       "        vertical-align: middle;\n",
       "    }\n",
       "\n",
       "    .dataframe tbody tr th {\n",
       "        vertical-align: top;\n",
       "    }\n",
       "\n",
       "    .dataframe thead th {\n",
       "        text-align: right;\n",
       "    }\n",
       "</style>\n",
       "<table border=\"1\" class=\"dataframe\">\n",
       "  <thead>\n",
       "    <tr style=\"text-align: right;\">\n",
       "      <th></th>\n",
       "      <th>Variables</th>\n",
       "      <th>Coefficients</th>\n",
       "    </tr>\n",
       "  </thead>\n",
       "  <tbody>\n",
       "    <tr>\n",
       "      <th>3</th>\n",
       "      <td>arrival_date_week_number</td>\n",
       "      <td>0.001529</td>\n",
       "    </tr>\n",
       "    <tr>\n",
       "      <th>14</th>\n",
       "      <td>total_of_special_requests</td>\n",
       "      <td>0.040255</td>\n",
       "    </tr>\n",
       "    <tr>\n",
       "      <th>15</th>\n",
       "      <td>meal_BB</td>\n",
       "      <td>0.014124</td>\n",
       "    </tr>\n",
       "    <tr>\n",
       "      <th>71</th>\n",
       "      <td>country_ESP</td>\n",
       "      <td>0.047228</td>\n",
       "    </tr>\n",
       "    <tr>\n",
       "      <th>156</th>\n",
       "      <td>country_PRY</td>\n",
       "      <td>0.004632</td>\n",
       "    </tr>\n",
       "    <tr>\n",
       "      <th>200</th>\n",
       "      <td>market_segment_Direct</td>\n",
       "      <td>0.006604</td>\n",
       "    </tr>\n",
       "    <tr>\n",
       "      <th>201</th>\n",
       "      <td>market_segment_Groups</td>\n",
       "      <td>0.049918</td>\n",
       "    </tr>\n",
       "    <tr>\n",
       "      <th>206</th>\n",
       "      <td>distribution_channel_Direct</td>\n",
       "      <td>0.000074</td>\n",
       "    </tr>\n",
       "    <tr>\n",
       "      <th>207</th>\n",
       "      <td>distribution_channel_GDS</td>\n",
       "      <td>0.015934</td>\n",
       "    </tr>\n",
       "    <tr>\n",
       "      <th>212</th>\n",
       "      <td>reserved_room_type_A</td>\n",
       "      <td>0.096438</td>\n",
       "    </tr>\n",
       "    <tr>\n",
       "      <th>223</th>\n",
       "      <td>deposit_type_Non Refund</td>\n",
       "      <td>0.020347</td>\n",
       "    </tr>\n",
       "    <tr>\n",
       "      <th>228</th>\n",
       "      <td>customer_type_Transient-Party</td>\n",
       "      <td>0.017891</td>\n",
       "    </tr>\n",
       "    <tr>\n",
       "      <th>231</th>\n",
       "      <td>arrival_date_month_April</td>\n",
       "      <td>0.031693</td>\n",
       "    </tr>\n",
       "  </tbody>\n",
       "</table>\n",
       "</div>"
      ],
      "text/plain": [
       "                         Variables  Coefficients\n",
       "3         arrival_date_week_number      0.001529\n",
       "14       total_of_special_requests      0.040255\n",
       "15                         meal_BB      0.014124\n",
       "71                     country_ESP      0.047228\n",
       "156                    country_PRY      0.004632\n",
       "200          market_segment_Direct      0.006604\n",
       "201          market_segment_Groups      0.049918\n",
       "206    distribution_channel_Direct      0.000074\n",
       "207       distribution_channel_GDS      0.015934\n",
       "212           reserved_room_type_A      0.096438\n",
       "223        deposit_type_Non Refund      0.020347\n",
       "228  customer_type_Transient-Party      0.017891\n",
       "231       arrival_date_month_April      0.031693"
      ]
     },
     "execution_count": 22,
     "metadata": {},
     "output_type": "execute_result"
    }
   ],
   "source": [
    "nom_var = labels_one_hot(X,categorical_features,numeric_features) + ['toto'] #juste en raison du bug ci-dessus\n",
    "#print the non-zero coefficients for alpha = 0.001\n",
    "coeff001 = pd.DataFrame({'Variables':nom_var,'Coefficients':coefs_lasso[:,9]}) #alpha = 0.001\n",
    "coeff001[coeff001['Coefficients']>0]"
   ]
  },
  {
   "cell_type": "code",
   "execution_count": null,
   "metadata": {},
   "outputs": [],
   "source": [
    "#### cross-validation lasso : NOT WORKING VERY LONG ?!\n",
    "models = [(\"lasso\", Lasso(random_state=0, max_iter=10000))]\n",
    "#my_alphas2 = [10**a for a in range(-6,1)]\n",
    "grids = {\"lasso\" : {'lasso__alpha': my_alphas}}\n",
    "for name, model in models:\n",
    "    psi = PolynomialFeatures(4,include_bias=False).fit_transform #poly degres 4 par ex                   \n",
    "    pipe = Pipeline(steps=[\n",
    "                       (name, model)])\n",
    "    clf = GridSearchCV(pipe, grids[name], cv=3)\n",
    "    clf.fit(psi(X_train_preproc), y_train)\n",
    "    print('Results for {}'.format(name))\n",
    "    print('Returned hyperparameter: {}'.format(clf.best_params_))\n",
    "    print('Best classification accuracy in train is: {}'.format(clf.best_score_))\n",
    "    print('Classification accuracy on test is: {}'.format(clf.score(X_test, y_test)))\n",
    "    print(clf.cv_results_)"
   ]
  },
  {
   "cell_type": "markdown",
   "metadata": {},
   "source": [
    "<mark>Encore une fois la cross validation met des heures à tourner sans succès. Je ne comprends pas du coup j'ai essayé de faire ci-dessous sans cross-validation pour sauver la mise </mark>\n",
    "\n",
    "<mark>    \n",
    "Si besoin d'argumenter à ce sujet : \n",
    "Why using cross validation is not a good option for Lasso regression?\n",
    "https://stats.stackexchange.com/questions/353185/why-using-cross-validation-is-not-a-good-option-for-lasso-regression\n",
    "</mark>"
   ]
  },
  {
   "cell_type": "code",
   "execution_count": null,
   "metadata": {},
   "outputs": [],
   "source": [
    "#Create a test and a training set\n",
    "\n",
    "#Option 1  : celle que j'ai fait avant je crois que je m'étais trompée dans mon code\n",
    "#poly=PolynomialFeatures()\n",
    "#lasso.fit(X_train_preproc,y_train)\n",
    "\n",
    "#Option 2 ?\n",
    "psi = PolynomialFeatures(4,include_bias=False).fit_transform #poly degres4\n",
    "lasso = Lasso(random_state=0, max_iter=100000, alpha=0.002)\n",
    "lasso.fit(psi(X_train_preproc),y_train)\n",
    "\n",
    "y_pred = lasso.predict(X_test_preproc)\n",
    "\n",
    "from sklearn.metrics import accuracy_score\n",
    "from sklearn.metrics import mean_squared_error\n",
    "from sklearn.metrics import r2_score\n",
    "print(\"MSE: \", mean_squared_error(y_test, y_pred, squared=False))\n",
    "print(\"R2: \", r2_score(y_test, y_pred))\n",
    "#print(\"accuracy : \", accuracy_score(y_test, y_pred)) #impossible because not binary\n"
   ]
  },
  {
   "cell_type": "markdown",
   "metadata": {},
   "source": [
    "<mark> long aussi même sans cross-validation après remplacement de l'option 1 (erreur) par l'option 2 :( </mark>\n"
   ]
  },
  {
   "cell_type": "markdown",
   "metadata": {},
   "source": [
    "# Notes de Kim à supprimer plus tard\n",
    "\n",
    "Je les garde encore un peu sous le coude\n",
    "\n",
    "Ressources a exploiter par la suite \n",
    "http://eric.univ-lyon2.fr/~ricco/tanagra/fichiers/fr_Tanagra_Regression_Lasso_Python.pdf\n",
    "https://scikit-learn.org/stable/auto_examples/linear_model/plot_lasso_coordinate_descent_path.html#sphx-glr-auto-examples-linear-model-plot-lasso-coordinate-descent-path-py"
   ]
  },
  {
   "cell_type": "code",
   "execution_count": null,
   "metadata": {},
   "outputs": [],
   "source": [
    "#cross-validation spécifique au lasso : solution non retenue a priori. \n",
    "from sklearn.linear_model import LassoCV\n",
    "lcv = LassoCV(alphas=my_alphas,normalize=False,fit_intercept=False,random_state=0,cv=5)#lancement sur l'échantillon d'apprentissagelcv.fit(ZTrain[:,:16],ZTrain[:,16]) \n",
    "#valeurs des alphas qui ont été testés\n",
    "print(lcv.alphas)"
   ]
  }
 ],
 "metadata": {
  "kernelspec": {
   "display_name": "Python 3",
   "language": "python",
   "name": "python3"
  },
  "language_info": {
   "codemirror_mode": {
    "name": "ipython",
    "version": 3
   },
   "file_extension": ".py",
   "mimetype": "text/x-python",
   "name": "python",
   "nbconvert_exporter": "python",
   "pygments_lexer": "ipython3",
   "version": "3.8.3"
  }
 },
 "nbformat": 4,
 "nbformat_minor": 4
}
